{
 "cells": [
  {
   "cell_type": "markdown",
   "metadata": {},
   "source": [
    "## Intro\n",
    "\n",
    "A couple of months ago, I found an abandoned world map in my new office space, and put it on the wall.\n",
    "\n",
    "![World Map](imgs/worldmap.jpg)\n",
    "\n",
    "And one day I stumbled upon an interesting idea when looking at the atlas. The names of the cities are similar to each other when they are geographically close to each other. For example, Stratford, Wilford, and Bradford are in England, Europe. Pyeongchang, Pyongyang in the Korean peninsula, Asia. \n",
    "![pyeongchang](imgs/pyeongchang.png)\n",
    "\n",
    "On hearing Pyeongchang and Pyongyang, one could think that they are in the same area without any difficulties. Like this poor pilot (http://www.telegraph.co.uk/news/2017/04/02/airport-mix-up-sees-winter-olympics-delegation-land-pyongyang/).\n",
    "\n",
    "![poor pilot](imgs/poor_pilot.png)\n",
    "\n",
    "If we can tell where the cities are just by hearing their names, can we train a machine to do that too?\n",
    "\n",
    "<br>\n",
    "\n",
    "## Dataset\n",
    "\n",
    "To train a complicated Deep Learning model, one would need a lot of data. The more, the merrier! \n",
    "\n",
    "Wikipedia provides the list of cities with 100,000+ residents for free, but it wasn't enough. I found a freely available source that contains as many as 10,000 cities. As it didn't have the continent label I needed, I preprocessed it a little bit to get the dataset I wanted.\n",
    "\n",
    "You can download it from my GitHub repo. It looks like the following table, and it has 7,221 cities and thier corresponding country and continent information."
   ]
  },
  {
   "cell_type": "code",
   "execution_count": 1,
   "metadata": {},
   "outputs": [],
   "source": [
    "import pandas as pd\n",
    "\n",
    "import warnings\n",
    "warnings.filterwarnings('ignore')"
   ]
  },
  {
   "cell_type": "code",
   "execution_count": 2,
   "metadata": {},
   "outputs": [
    {
     "data": {
      "text/html": [
       "<div>\n",
       "<style>\n",
       "    .dataframe thead tr:only-child th {\n",
       "        text-align: right;\n",
       "    }\n",
       "\n",
       "    .dataframe thead th {\n",
       "        text-align: left;\n",
       "    }\n",
       "\n",
       "    .dataframe tbody tr th {\n",
       "        vertical-align: top;\n",
       "    }\n",
       "</style>\n",
       "<table border=\"1\" class=\"dataframe\">\n",
       "  <thead>\n",
       "    <tr style=\"text-align: right;\">\n",
       "      <th></th>\n",
       "      <th>city_ascii</th>\n",
       "      <th>country</th>\n",
       "      <th>continent</th>\n",
       "    </tr>\n",
       "  </thead>\n",
       "  <tbody>\n",
       "    <tr>\n",
       "      <th>0</th>\n",
       "      <td>Qal eh-ye</td>\n",
       "      <td>Afghanistan</td>\n",
       "      <td>Asia</td>\n",
       "    </tr>\n",
       "    <tr>\n",
       "      <th>1</th>\n",
       "      <td>Chaghcharan</td>\n",
       "      <td>Afghanistan</td>\n",
       "      <td>Asia</td>\n",
       "    </tr>\n",
       "    <tr>\n",
       "      <th>2</th>\n",
       "      <td>Lashkar Gah</td>\n",
       "      <td>Afghanistan</td>\n",
       "      <td>Asia</td>\n",
       "    </tr>\n",
       "    <tr>\n",
       "      <th>3</th>\n",
       "      <td>Zaranj</td>\n",
       "      <td>Afghanistan</td>\n",
       "      <td>Asia</td>\n",
       "    </tr>\n",
       "    <tr>\n",
       "      <th>4</th>\n",
       "      <td>Tarin Kowt</td>\n",
       "      <td>Afghanistan</td>\n",
       "      <td>Asia</td>\n",
       "    </tr>\n",
       "  </tbody>\n",
       "</table>\n",
       "</div>"
      ],
      "text/plain": [
       "    city_ascii      country continent\n",
       "0    Qal eh-ye  Afghanistan      Asia\n",
       "1  Chaghcharan  Afghanistan      Asia\n",
       "2  Lashkar Gah  Afghanistan      Asia\n",
       "3       Zaranj  Afghanistan      Asia\n",
       "4   Tarin Kowt  Afghanistan      Asia"
      ]
     },
     "execution_count": 2,
     "metadata": {},
     "output_type": "execute_result"
    }
   ],
   "source": [
    "raw_df = pd.read_csv('city_continent.csv')\n",
    "raw_df.head()"
   ]
  },
  {
   "cell_type": "code",
   "execution_count": 3,
   "metadata": {},
   "outputs": [
    {
     "data": {
      "text/plain": [
       "7221"
      ]
     },
     "execution_count": 3,
     "metadata": {},
     "output_type": "execute_result"
    }
   ],
   "source": [
    "## number of data points\n",
    "len(raw_df)"
   ]
  },
  {
   "cell_type": "markdown",
   "metadata": {},
   "source": [
    "## Approach\n",
    "\n",
    "The goal is to find and optimize a function that maps the city names to their continents. It is a simple text-classification problem. I used PyTorch which I'd heard a lot about recently. \n",
    "\n",
    "Here's how I designed the process.  \n",
    "\n",
    "### 1. Prepare Dataset\n",
    "split the dataset into train, validation, and test set.\n",
    "\n",
    "### 2. Define Vocabulary\n",
    "build a vocabulary to encode text into vectors\n",
    "\n",
    "### 3. Define LSTM model\n",
    "uni/bidirectional, number of embeddings, number of hidden units, number of layers, dropout\n",
    "\n",
    "### 4. Train \n",
    "run training\n",
    "\n",
    "### 5. Evaluate\n",
    "compare model performance on test set\n"
   ]
  },
  {
   "cell_type": "markdown",
   "metadata": {},
   "source": [
    "## 1. Prepare Dataset\n",
    "`sklearn`'s `train_test_split` really comes in handy when chopping the dataset nicely. I made a function named `prepare_dataset` to split the raw dataset into train, validation, and test set, and to save them in the target directory."
   ]
  },
  {
   "cell_type": "code",
   "execution_count": 4,
   "metadata": {},
   "outputs": [],
   "source": [
    "import os\n",
    "from sklearn.model_selection import train_test_split\n",
    "\n",
    "def prepare_dataset(path, target_dir):\n",
    "    df = pd.read_csv(path)[['city_ascii', 'continent']]\n",
    "\n",
    "    X_train, X_test, y_train, y_test = train_test_split(df.city_ascii, \n",
    "                                                        df.continent, \n",
    "                                                        test_size=0.1, \n",
    "                                                        random_state=42, \n",
    "                                                        stratify=df.continent)\n",
    "\n",
    "    X_train, X_val, y_train, y_val = train_test_split(X_train, \n",
    "                                                        y_train, \n",
    "                                                        test_size=0.1, \n",
    "                                                        random_state=42, \n",
    "                                                        stratify=y_train)\n",
    "\n",
    "    trainSet = pd.concat([X_train, y_train], axis=1)\n",
    "    valSet = pd.concat([X_val, y_val], axis=1)\n",
    "    testSet = pd.concat([X_test, y_test], axis=1)\n",
    "    \n",
    "    if not os.path.exists(target_dir):\n",
    "        os.makedirs(target_dir)\n",
    "    \n",
    "    trainSet.to_csv(os.path.join(target_dir, '_train.csv'), index=None)\n",
    "    valSet.to_csv(os.path.join(target_dir, '_val.csv'), index=None)\n",
    "    testSet.to_csv(os.path.join(target_dir, '_test.csv'), index=None)"
   ]
  },
  {
   "cell_type": "code",
   "execution_count": 5,
   "metadata": {},
   "outputs": [],
   "source": [
    "prepare_dataset('city_continent.csv', 'dataset')"
   ]
  },
  {
   "cell_type": "markdown",
   "metadata": {},
   "source": [
    "## 2. Define Vocabulary\n",
    "\n",
    "When building a text-based deep learning model, it's cumbersome to transform text into vectors. We would have to make a word or character set and make a dictionary that maps a word to an integer. And you would want to give space to `<unk>` in case the model stumbles upon an unseen character.\n",
    "\n",
    "Luckily a group of kind-minded geniuses made a publicly available tool for it, and its name is `torchtext`<a href=\"https://github.com/pytorch/text\">(GitHub)</a>. It is a fantastic tool that enables quick and easy vocab-construction. "
   ]
  },
  {
   "cell_type": "code",
   "execution_count": 6,
   "metadata": {},
   "outputs": [],
   "source": [
    "from torchtext import data"
   ]
  },
  {
   "cell_type": "markdown",
   "metadata": {},
   "source": [
    "First, we need to define the text and label columns. `CITY` is a column that has city name text. Because it is a sequential data type, I give it `sequential=True`. Sequence processing is easily done just by passing the tokenizer function I defined below.\n",
    "\n",
    "The column `CONTINENT` is a categorical data type, yet it is not a numerical datatype yet. So I pass `use_vocab=True` for it."
   ]
  },
  {
   "cell_type": "code",
   "execution_count": 7,
   "metadata": {},
   "outputs": [
    {
     "data": {
      "text/plain": [
       "['S', 'e', 'o', 'u', 'l']"
      ]
     },
     "execution_count": 7,
     "metadata": {},
     "output_type": "execute_result"
    }
   ],
   "source": [
    "## City name tokenizer\n",
    "## 'Seoul' -> ['S', 'e', 'o', 'u', 'l']\n",
    "def tokenizer(text):\n",
    "    return list(text)\n",
    "\n",
    "tokenizer(\"Seoul\")"
   ]
  },
  {
   "cell_type": "code",
   "execution_count": 8,
   "metadata": {},
   "outputs": [],
   "source": [
    "CITY = data.Field(sequential=True, pad_first=True, tokenize=tokenizer)\n",
    "CONTINENT = data.Field(sequential=False, use_vocab=True)"
   ]
  },
  {
   "cell_type": "markdown",
   "metadata": {},
   "source": [
    "`data.TabularDataset.splits` is a super conveninent function that loads the preprocessed datasets I splited above. `CITY` and `CONTINENT` fields are passed into the function with the actual column name."
   ]
  },
  {
   "cell_type": "code",
   "execution_count": 9,
   "metadata": {},
   "outputs": [],
   "source": [
    "train, val, test = data.TabularDataset.splits(\n",
    "    path='dataset', skip_header=True, train='_train.csv',\n",
    "    validation='_val.csv', test='_test.csv', format='csv',\n",
    "    fields=[('city_ascii', CITY), ('continent', CONTINENT)]\n",
    ")"
   ]
  },
  {
   "cell_type": "markdown",
   "metadata": {},
   "source": [
    "`some_field.build_vocab(dataset)` literally builds vocab. Before the construction, our data field doesn't have its vocab."
   ]
  },
  {
   "cell_type": "code",
   "execution_count": 10,
   "metadata": {},
   "outputs": [
    {
     "ename": "AttributeError",
     "evalue": "'Field' object has no attribute 'vocab'",
     "output_type": "error",
     "traceback": [
      "\u001b[0;31m---------------------------------------------------------------------------\u001b[0m",
      "\u001b[0;31mAttributeError\u001b[0m                            Traceback (most recent call last)",
      "\u001b[0;32m<ipython-input-10-ae92b3eb66a0>\u001b[0m in \u001b[0;36m<module>\u001b[0;34m()\u001b[0m\n\u001b[0;32m----> 1\u001b[0;31m \u001b[0mCITY\u001b[0m\u001b[0;34m.\u001b[0m\u001b[0mvocab\u001b[0m\u001b[0;34m\u001b[0m\u001b[0m\n\u001b[0m",
      "\u001b[0;31mAttributeError\u001b[0m: 'Field' object has no attribute 'vocab'"
     ]
    }
   ],
   "source": [
    "CITY.vocab"
   ]
  },
  {
   "cell_type": "code",
   "execution_count": 11,
   "metadata": {},
   "outputs": [],
   "source": [
    "CITY.build_vocab(train, val, test)\n",
    "CONTINENT.build_vocab(train, val, test)"
   ]
  },
  {
   "cell_type": "markdown",
   "metadata": {},
   "source": [
    "And now it does. `field.vocab.stoi` maps characters to their integers, `field.vocab.itos` the other way round. "
   ]
  },
  {
   "cell_type": "code",
   "execution_count": 12,
   "metadata": {},
   "outputs": [
    {
     "data": {
      "text/plain": [
       "26"
      ]
     },
     "execution_count": 12,
     "metadata": {},
     "output_type": "execute_result"
    }
   ],
   "source": [
    "CITY.vocab.stoi['A']"
   ]
  },
  {
   "cell_type": "code",
   "execution_count": 13,
   "metadata": {},
   "outputs": [
    {
     "data": {
      "text/plain": [
       "'A'"
      ]
     },
     "execution_count": 13,
     "metadata": {},
     "output_type": "execute_result"
    }
   ],
   "source": [
    "CITY.vocab.itos[26]"
   ]
  },
  {
   "cell_type": "code",
   "execution_count": 14,
   "metadata": {},
   "outputs": [
    {
     "data": {
      "text/plain": [
       "Counter({'Africa': 1284,\n",
       "         'Asia': 2334,\n",
       "         'Europe': 847,\n",
       "         'North America': 1418,\n",
       "         'Oceania': 297,\n",
       "         'South America': 1041})"
      ]
     },
     "execution_count": 14,
     "metadata": {},
     "output_type": "execute_result"
    }
   ],
   "source": [
    "CONTINENT.vocab.freqs"
   ]
  },
  {
   "cell_type": "markdown",
   "metadata": {},
   "source": [
    "Let's turn the loaded datasets into generators which are handy when training a neural network. `data.BucketIterator.splits` uses `sort_key` to group city names that are of similar lengths, which minimizes the number of paddings."
   ]
  },
  {
   "cell_type": "code",
   "execution_count": 15,
   "metadata": {},
   "outputs": [],
   "source": [
    "train_iter, val_iter, test_iter = data.BucketIterator.splits(\n",
    "    (train, val, test), batch_sizes=(16, 16, 16), repeat=False,\n",
    "    sort_key=lambda x: len(x.city_ascii), device=-1\n",
    ")"
   ]
  },
  {
   "cell_type": "markdown",
   "metadata": {},
   "source": [
    "Here's a vectorized city name and continent label a train iterator would deliver to the model."
   ]
  },
  {
   "cell_type": "code",
   "execution_count": 16,
   "metadata": {},
   "outputs": [],
   "source": [
    "sample = next(iter(train_iter))"
   ]
  },
  {
   "cell_type": "code",
   "execution_count": 17,
   "metadata": {},
   "outputs": [
    {
     "data": {
      "text/plain": [
       "[28, 6, 25, 8, 10, 12, 6]"
      ]
     },
     "execution_count": 17,
     "metadata": {},
     "output_type": "execute_result"
    }
   ],
   "source": [
    "list(sample.city_ascii[:, 0].data)"
   ]
  },
  {
   "cell_type": "code",
   "execution_count": 18,
   "metadata": {},
   "outputs": [
    {
     "data": {
      "text/plain": [
       "'Kipushi'"
      ]
     },
     "execution_count": 18,
     "metadata": {},
     "output_type": "execute_result"
    }
   ],
   "source": [
    "\"\".join([CITY.vocab.itos[i] for i in list(sample.city_ascii[:, 0].data)])"
   ]
  },
  {
   "cell_type": "code",
   "execution_count": 19,
   "metadata": {},
   "outputs": [
    {
     "data": {
      "text/plain": [
       "\n",
       " 3\n",
       "[torch.LongTensor of size 1]"
      ]
     },
     "execution_count": 19,
     "metadata": {},
     "output_type": "execute_result"
    }
   ],
   "source": [
    "sample.continent[0].data"
   ]
  },
  {
   "cell_type": "code",
   "execution_count": 20,
   "metadata": {},
   "outputs": [
    {
     "data": {
      "text/plain": [
       "'Africa'"
      ]
     },
     "execution_count": 20,
     "metadata": {},
     "output_type": "execute_result"
    }
   ],
   "source": [
    "CONTINENT.vocab.itos[sample.continent[0].data.numpy()[0]]"
   ]
  },
  {
   "cell_type": "markdown",
   "metadata": {},
   "source": [
    "## 3. Define LSTM Models\n",
    "A lot of tutorials codes that I took a reference to use Class to define their own neural network in PyTorch. I found this approach a little bit confusing at first because I was quite happy with Keras sequential. But it kinda has grown on me, and I like how I can generate multiple models just by tweaking parameters that I pass in.\n",
    "\n",
    "`ParameterGrid` from `sklearn` is a handy tool for building a parameter grid. Here I experimented with the number of LSTM layers, dropout in LSTM, dropout in the fully connected layer at the end, and whether the LSTM is bidirectional. "
   ]
  },
  {
   "cell_type": "code",
   "execution_count": 21,
   "metadata": {},
   "outputs": [
    {
     "name": "stdout",
     "output_type": "stream",
     "text": [
      "Number of LSTM models to generate: 24\n"
     ]
    }
   ],
   "source": [
    "from sklearn.model_selection import ParameterGrid\n",
    "\n",
    "grid = {'BATCH_SIZE': [16], 'EMBEDDING_DIM': [100], 'HIDDEN_DIM': [100], \n",
    " 'nb_1stm_layers':[1, 2, 3], 'lstm_dropout': [0, 0.5], \n",
    " 'lstm_bidirectional': [True, False], 'fc_dropout': [0, 0.5]}\n",
    "\n",
    "param_grids = list(ParameterGrid(grid))\n",
    "\n",
    "print(\"Number of LSTM models to generate: {}\".format(len(param_grids)))"
   ]
  },
  {
   "cell_type": "markdown",
   "metadata": {},
   "source": [
    "Building such versatile model taught me some lessons.\n",
    "- it's better to pass `use_gpu` to the model because the Variables need `.cuda()` to run in the GPU environment.\n",
    "- when the LSTM layer is `bidirectional` the `hidden_dim` in LSTM gets doubled\n",
    "- if you want to deactivate `dropout`, just pass `0` to it.\n"
   ]
  },
  {
   "cell_type": "code",
   "execution_count": 22,
   "metadata": {},
   "outputs": [
    {
     "data": {
      "text/plain": [
       "<torch._C.Generator at 0x7f636823ca50>"
      ]
     },
     "execution_count": 22,
     "metadata": {},
     "output_type": "execute_result"
    }
   ],
   "source": [
    "import torch\n",
    "import torch.nn as nn\n",
    "from torch.autograd import Variable\n",
    "torch.manual_seed(1000)"
   ]
  },
  {
   "cell_type": "code",
   "execution_count": 23,
   "metadata": {},
   "outputs": [],
   "source": [
    "use_gpu = torch.cuda.is_available()"
   ]
  },
  {
   "cell_type": "code",
   "execution_count": 24,
   "metadata": {},
   "outputs": [],
   "source": [
    "class LSTMModel(nn.Module):\n",
    "    def __init__(self, batch_size, vocab_size, label_size,\n",
    "                 embedding_dim, hidden_dim,\n",
    "                 nb_lstm_layers, lstm_dropout, lstm_bidirectional,\n",
    "                 fc_dropout, use_gpu):\n",
    "        super(LSTMModel, self).__init__()\n",
    "        \n",
    "        self.use_gpu = use_gpu\n",
    "        \n",
    "        self.batch_size = batch_size\n",
    "        self.vocab_size = vocab_size\n",
    "        self.label_size = label_size\n",
    "        \n",
    "        self.embedding_dim = embedding_dim\n",
    "        self.hidden_dim = hidden_dim\n",
    "        \n",
    "        self.nb_lstm_layers = nb_lstm_layers\n",
    "        self.lstm_dropout = lstm_dropout\n",
    "        self.lstm_bidirectional = lstm_bidirectional\n",
    "        \n",
    "        self.embeddings = nn.Embedding(vocab_size, embedding_dim)\n",
    "        self.lstm = nn.LSTM(input_size=embedding_dim, hidden_size=hidden_dim, \n",
    "                            num_layers=self.nb_lstm_layers, \n",
    "                            dropout=self.lstm_dropout,\n",
    "                            bidirectional=self.lstm_bidirectional)\n",
    "        \n",
    "        if self.lstm_bidirectional:\n",
    "            self.hidden2label = nn.Linear(hidden_dim * 2, label_size)\n",
    "        else:\n",
    "            self.hidden2label = nn.Linear(hidden_dim, label_size)\n",
    "        self.hidden = self.init_hidden()\n",
    "        self.dropout = nn.Dropout(fc_dropout)\n",
    "        \n",
    "        \n",
    "    def init_hidden(self):\n",
    "        if self.lstm_bidirectional:\n",
    "            if self.use_gpu:\n",
    "                return (Variable(torch.zeros(self.nb_lstm_layers * 2, self.batch_size, self.hidden_dim).cuda()),\n",
    "                        Variable(torch.zeros(self.nb_lstm_layers * 2, self.batch_size, self.hidden_dim).cuda()))\n",
    "            else:\n",
    "                return (Variable(torch.zeros(self.nb_lstm_layers * 2, self.batch_size, self.hidden_dim)),\n",
    "                        Variable(torch.zeros(self.nb_lstm_layers * 2, self.batch_size, self.hidden_dim)))\n",
    "        else:\n",
    "            if self.use_gpu:\n",
    "                return (Variable(torch.zeros(self.nb_lstm_layers, self.batch_size, self.hidden_dim).cuda()),\n",
    "                        Variable(torch.zeros(self.nb_lstm_layers, self.batch_size, self.hidden_dim).cuda()))\n",
    "            else:\n",
    "                return (Variable(torch.zeros(self.nb_lstm_layers, self.batch_size, self.hidden_dim)),\n",
    "                        Variable(torch.zeros(self.nb_lstm_layers, self.batch_size, self.hidden_dim)))\n",
    "                \n",
    "    \n",
    "    def forward(self, sentence):\n",
    "        x = self.embeddings(sentence).view(len(sentence), self.batch_size, -1)\n",
    "        lstm_out, self.hidden = self.lstm(x, self.hidden)\n",
    "        y = self.hidden2label(lstm_out[-1])\n",
    "        y = self.dropout(y)\n",
    "        log_probs = F.log_softmax(y)\n",
    "        return log_probs"
   ]
  },
  {
   "cell_type": "markdown",
   "metadata": {},
   "source": [
    "I defined `load_params` function that returns a model given a param set."
   ]
  },
  {
   "cell_type": "code",
   "execution_count": 25,
   "metadata": {},
   "outputs": [],
   "source": [
    "def load_params(modelClass, pg, use_gpu):\n",
    "    model = modelClass(batch_size = pg['BATCH_SIZE'],\n",
    "                  vocab_size = len(CITY.vocab),\n",
    "                  label_size = len(CONTINENT.vocab) -1, ## b.c of <unk>\n",
    "                  embedding_dim = pg['EMBEDDING_DIM'],\n",
    "                  hidden_dim = pg['HIDDEN_DIM'],\n",
    "                  nb_lstm_layers = pg['nb_1stm_layers'],\n",
    "                  lstm_dropout = pg['lstm_dropout'],\n",
    "                  lstm_bidirectional=pg['lstm_bidirectional'],\n",
    "                  fc_dropout = pg['fc_dropout'],\n",
    "                  use_gpu = use_gpu)\n",
    "    if use_gpu:\n",
    "        return model.cuda()\n",
    "    else:\n",
    "        return model"
   ]
  },
  {
   "cell_type": "code",
   "execution_count": 26,
   "metadata": {},
   "outputs": [
    {
     "name": "stdout",
     "output_type": "stream",
     "text": [
      "LSTMModel (\n",
      "  (embeddings): Embedding(58, 100)\n",
      "  (lstm): LSTM(100, 100, bidirectional=True)\n",
      "  (hidden2label): Linear (200 -> 6)\n",
      "  (dropout): Dropout (p = 0)\n",
      ")\n"
     ]
    }
   ],
   "source": [
    "a_model = load_params(LSTMModel, param_grids[0], use_gpu)\n",
    "print(a_model)"
   ]
  },
  {
   "cell_type": "code",
   "execution_count": 27,
   "metadata": {},
   "outputs": [
    {
     "name": "stdout",
     "output_type": "stream",
     "text": [
      "Number of parameters to train: 168606\n"
     ]
    }
   ],
   "source": [
    "nb_trainable_params = sum([param.nelement() for param in a_model.parameters()])\n",
    "print(\"Number of parameters to train: {}\".format(nb_trainable_params))"
   ]
  },
  {
   "cell_type": "markdown",
   "metadata": {},
   "source": [
    "## 4. Train\n",
    "Although it doesn't take a long time to train a model thanks to the petit dataset, 24 models could be quite hefty for my cpu. To hasten the training process I ran the following code in GPU environment on FloydHub."
   ]
  },
  {
   "cell_type": "code",
   "execution_count": 28,
   "metadata": {},
   "outputs": [],
   "source": [
    "import numpy as np\n",
    "from torch import optim\n",
    "import torch.nn.functional as F"
   ]
  },
  {
   "cell_type": "code",
   "execution_count": 29,
   "metadata": {},
   "outputs": [],
   "source": [
    "out_dir = os.path.abspath(os.path.join(os.path.curdir, \"result_dir\"))\n",
    "    \n",
    "if not os.path.exists(out_dir):\n",
    "    os.makedirs(out_dir)"
   ]
  },
  {
   "cell_type": "code",
   "execution_count": 30,
   "metadata": {},
   "outputs": [],
   "source": [
    "def save_checkpoint(state, out_dir, filename):\n",
    "    torch.save(state, out_dir + '/' + filename)"
   ]
  },
  {
   "cell_type": "code",
   "execution_count": 31,
   "metadata": {},
   "outputs": [],
   "source": [
    "def get_accuracy(truth, pred):\n",
    "    tr = np.array(truth)\n",
    "    pr = np.array(pred)\n",
    "    return sum(tr == pr) / len(tr)"
   ]
  },
  {
   "cell_type": "markdown",
   "metadata": {},
   "source": [
    "f1_score is a useful metric to monitor when the label is not balanced. `Asia` is nearly 10 times the size of `Oceania`."
   ]
  },
  {
   "cell_type": "code",
   "execution_count": 32,
   "metadata": {},
   "outputs": [
    {
     "data": {
      "text/plain": [
       "Counter({'Africa': 1284,\n",
       "         'Asia': 2334,\n",
       "         'Europe': 847,\n",
       "         'North America': 1418,\n",
       "         'Oceania': 297,\n",
       "         'South America': 1041})"
      ]
     },
     "execution_count": 32,
     "metadata": {},
     "output_type": "execute_result"
    }
   ],
   "source": [
    "CONTINENT.vocab.freqs"
   ]
  },
  {
   "cell_type": "code",
   "execution_count": 33,
   "metadata": {},
   "outputs": [],
   "source": [
    "from sklearn.metrics import f1_score\n",
    "def get_f1(truth, pred):\n",
    "    tr = np.array(truth)\n",
    "    pr = np.array(pred)\n",
    "    return f1_score(tr, pr, average='weighted')"
   ]
  },
  {
   "cell_type": "code",
   "execution_count": 34,
   "metadata": {},
   "outputs": [],
   "source": [
    "def train_epoch_progress(model, train_iter, loss_function, optimizer, text_field, label_field, epoch):\n",
    "    \n",
    "    model.train() ## train mode\n",
    "    \n",
    "    avg_loss = 0.0\n",
    "    truth_res = []\n",
    "    pred_res = []\n",
    "    count = 0\n",
    "        \n",
    "    for batch in train_iter:\n",
    "        if use_gpu:\n",
    "            city, continent = batch.city_ascii.cuda(), batch.continent.cuda()\n",
    "        else:\n",
    "            city, continent = batch.city_ascii, batch.continent\n",
    "        continent.data.sub_(1) ## -1 to make index start from 0 (0 is <unk> in the vocab)\n",
    "        truth_res += list(continent.data)\n",
    "        \n",
    "        model.batch_size = len(continent.data)\n",
    "        model.hidden = model.init_hidden()\n",
    "        \n",
    "        pred = model(city)\n",
    "        pred_label = pred.data.max(1)[1].cpu().numpy() ## .cpu() to get it from gpu env\n",
    "        pred_res += [x for x in pred_label]\n",
    "        \n",
    "        model.zero_grad()\n",
    "        loss = loss_function(pred, continent)\n",
    "        avg_loss += loss.data[0]\n",
    "        count += 1\n",
    "        \n",
    "        loss.backward()\n",
    "        optimizer.step()\n",
    "        \n",
    "    avg_loss /= len(train_iter)\n",
    "    acc = get_accuracy(truth_res, pred_res)\n",
    "    f1 = get_f1(truth_res, pred_res)\n",
    "    \n",
    "    print('Train: loss %.2f | acc %.1f | f1-score %.3f' % (avg_loss, acc * 100, f1))\n",
    "        \n",
    "    return avg_loss, acc, f1"
   ]
  },
  {
   "cell_type": "code",
   "execution_count": 35,
   "metadata": {},
   "outputs": [],
   "source": [
    "def evaluate(model, data, loss_function, name):\n",
    "    \n",
    "    model.eval() ## eval mode\n",
    "    \n",
    "    avg_loss = 0.0\n",
    "    truth_res = []\n",
    "    pred_res = []\n",
    "    \n",
    "    for batch in data:\n",
    "        if use_gpu:\n",
    "            city, continent = batch.city_ascii.cuda(), batch.continent.cuda()\n",
    "        else:\n",
    "            city, continent = batch.city_ascii, batch.continent\n",
    "        continent.data.sub_(1)\n",
    "        truth_res += list(continent.data)\n",
    "        \n",
    "        model.batch_size = len(continent.data)\n",
    "        model.hidden = model.init_hidden()\n",
    "        \n",
    "        pred = model(city)\n",
    "        pred_label = pred.data.max(1)[1].cpu().numpy()\n",
    "        pred_res += [x for x in pred_label]\n",
    "        loss = loss_function(pred, continent)\n",
    "        avg_loss += loss.data[0]\n",
    "        \n",
    "    avg_loss /= len(data)\n",
    "    acc = get_accuracy(truth_res, pred_res)\n",
    "    f1 = get_f1(truth_res, pred_res)\n",
    "    \n",
    "    print(name + ': loss %.2f | acc %.1f | f1-score %.3f' % (avg_loss, acc * 100, f1))\n",
    "    return avg_loss, acc, f1"
   ]
  },
  {
   "cell_type": "markdown",
   "metadata": {},
   "source": [
    "Then I ran the models for 25 epochs and saved their best performing model when they beat their own previous records based on validation f1-score."
   ]
  },
  {
   "cell_type": "code",
   "execution_count": 36,
   "metadata": {},
   "outputs": [],
   "source": [
    "EPOCHS = 25"
   ]
  },
  {
   "cell_type": "code",
   "execution_count": 37,
   "metadata": {},
   "outputs": [],
   "source": [
    "import time"
   ]
  },
  {
   "cell_type": "code",
   "execution_count": 42,
   "metadata": {},
   "outputs": [],
   "source": [
    "loss_function = nn.NLLLoss()"
   ]
  },
  {
   "cell_type": "code",
   "execution_count": null,
   "metadata": {
    "scrolled": true
   },
   "outputs": [],
   "source": [
    "for idx, pg in enumerate(param_grids):\n",
    "    \n",
    "    start_time = time.time()\n",
    "    \n",
    "    print('** Training pg:{} **'.format(idx))\n",
    "    \n",
    "    model = load_params(LSTMModel, pg, use_gpu)\n",
    "    ## fixed Learning Rate as 0.001\n",
    "    ## tried SGD with lr_scheduler\n",
    "    ## but it was slower than Adam and showed inferior validation accuracy and f1-score.\n",
    "    optimizer = optim.Adam(model.parameters(), lr=0.001)\n",
    "    loss_function = nn.NLLLoss()\n",
    "    \n",
    "    best_val_f1 = 0.0\n",
    "    \n",
    "    record = []\n",
    "    \n",
    "    for epoch in range(EPOCHS):\n",
    "        print(\"Epoch: {}\".format(epoch + 1))\n",
    "        \n",
    "        rec_dict = {}\n",
    "        train_loss, acc, train_f1 = train_epoch_progress(model, \n",
    "                                         train_iter, \n",
    "                                         loss_function, \n",
    "                                         optimizer,\n",
    "                                         CITY, \n",
    "                                         CONTINENT, \n",
    "                                         epoch)\n",
    "        \n",
    "        val_loss, val_acc, val_f1 = evaluate(model, val_iter, loss_function, 'Val')\n",
    "        \n",
    "        ## when the current validation f1 exceeds the best validation f1 so far,\n",
    "        ## replace the best_val_f1 with val_f1\n",
    "        ## and best_model with the current model\n",
    "        ## and save the epoch, state_dict, and optimizer for the later use.\n",
    "        if val_f1 > best_val_f1:\n",
    "        \n",
    "            best_val_f1 = val_f1\n",
    "            best_model = model\n",
    "            \n",
    "            save_checkpoint({\n",
    "                'epoch': epoch + 1,\n",
    "                'state_dict': best_model.state_dict(),\n",
    "                'optimizer': optimizer.state_dict()\n",
    "            }, out_dir=out_dir, filename='pg_{}__epoch_{}.pth.tar'.format(idx, epoch+1))\n",
    "\n",
    "        ## logging for visulisation\n",
    "        rec_dict['epoch'] = epoch + 1\n",
    "        rec_dict['training_loss'] = train_loss\n",
    "        rec_dict['training_acc'] = acc\n",
    "        rec_dict['train_f1'] = train_f1\n",
    "\n",
    "        rec_dict['val_loss'] = val_loss\n",
    "        rec_dict['val_acc'] = val_acc\n",
    "        rec_dict['test_f1'] = val_f1\n",
    "\n",
    "        record.append(rec_dict)\n",
    "    \n",
    "    rec_df = pd.DataFrame(record)\n",
    "    \n",
    "    rec_df.to_csv(out_dir + '/pg_{}__record.csv'.format(idx), index=False)\n",
    "\n",
    "    # eval on test\n",
    "    test_loss, test_acc, test_f1 = evaluate(best_model, test_iter, loss_function, 'Final Test')\n",
    "    \n",
    "    end_time = time.time()\n",
    "    seconds_elapsed = round(end_time - start_time, 0)\n",
    "    print(\"pg:{} took {} seconds.\".format(idx, seconds_elapsed))\n",
    "    print(\"\\n\")\n",
    "    "
   ]
  },
  {
   "cell_type": "markdown",
   "metadata": {},
   "source": [
    "Each model roughly took 1 ~ 2 minutes."
   ]
  },
  {
   "cell_type": "markdown",
   "metadata": {},
   "source": [
    "## 5. Performance Evaluation\n",
    "Time to choose the best performing model. In the training process above, my 24 LSTMModels left their own best records and checkpoints. And here are the top 5 models that showed the highest accuracy and f1-score on the test dataset."
   ]
  },
  {
   "cell_type": "code",
   "execution_count": 43,
   "metadata": {},
   "outputs": [],
   "source": [
    "import glob\n",
    "\n",
    "checkpoints = glob.glob(out_dir + '/*.tar')"
   ]
  },
  {
   "cell_type": "code",
   "execution_count": 44,
   "metadata": {},
   "outputs": [],
   "source": [
    "import re\n",
    "def evaluate_on_test(path):\n",
    "    print(path)\n",
    "    pg_idx = int(re.findall('/pg_(.*)__epoch', path)[0])\n",
    "    epoch = int(re.findall('__epoch_(.*).pth', path)[0])\n",
    "    \n",
    "    model = load_params(LSTMModel, param_grids[pg_idx], use_gpu)\n",
    "    model.eval()\n",
    "    checkpoint = torch.load(path, map_location={'cuda:0': 'cpu'})\n",
    "    model.load_state_dict(checkpoint['state_dict'])\n",
    "    avg_loss, test_acc, f1 = evaluate(model, test_iter, loss_function, 'FINAL TEST')\n",
    "    \n",
    "    rec_dict = {}\n",
    "    rec_dict['pg'] = pg_idx\n",
    "    rec_dict['epoch'] = epoch\n",
    "    rec_dict['test_avg_loss'] = avg_loss\n",
    "    rec_dict['test_acc'] = test_acc\n",
    "    rec_dict['f1_score'] = f1\n",
    "    return rec_dict"
   ]
  },
  {
   "cell_type": "code",
   "execution_count": 45,
   "metadata": {},
   "outputs": [
    {
     "name": "stdout",
     "output_type": "stream",
     "text": [
      "/output/result_dir/pg_19__epoch_5.pth.tar\n",
      "FINAL TEST: loss 1.25 | acc 52.4 | f1-score 0.503\n",
      "/output/result_dir/pg_8__epoch_1.pth.tar\n",
      "FINAL TEST: loss 1.36 | acc 47.9 | f1-score 0.434\n",
      "/output/result_dir/pg_7__epoch_4.pth.tar\n",
      "FINAL TEST: loss 1.20 | acc 52.4 | f1-score 0.504\n",
      "/output/result_dir/pg_17__epoch_10.pth.tar\n",
      "FINAL TEST: loss 1.21 | acc 55.2 | f1-score 0.536\n",
      "/output/result_dir/pg_11__epoch_2.pth.tar\n",
      "FINAL TEST: loss 1.29 | acc 50.3 | f1-score 0.475\n",
      "/output/result_dir/pg_11__epoch_1.pth.tar\n",
      "FINAL TEST: loss 1.39 | acc 47.2 | f1-score 0.420\n",
      "/output/result_dir/pg_1__epoch_3.pth.tar\n",
      "FINAL TEST: loss 1.20 | acc 53.0 | f1-score 0.510\n",
      "/output/result_dir/pg_22__epoch_15.pth.tar\n",
      "FINAL TEST: loss 1.17 | acc 56.6 | f1-score 0.554\n",
      "/output/result_dir/pg_21__epoch_6.pth.tar\n",
      "FINAL TEST: loss 1.28 | acc 53.3 | f1-score 0.517\n",
      "/output/result_dir/pg_21__epoch_10.pth.tar\n",
      "FINAL TEST: loss 1.19 | acc 54.4 | f1-score 0.523\n",
      "/output/result_dir/pg_11__epoch_4.pth.tar\n",
      "FINAL TEST: loss 1.21 | acc 54.2 | f1-score 0.521\n",
      "/output/result_dir/pg_12__epoch_1.pth.tar\n",
      "FINAL TEST: loss 1.42 | acc 46.5 | f1-score 0.429\n",
      "/output/result_dir/pg_3__epoch_1.pth.tar\n",
      "FINAL TEST: loss 1.31 | acc 49.8 | f1-score 0.458\n",
      "/output/result_dir/pg_11__epoch_3.pth.tar\n",
      "FINAL TEST: loss 1.27 | acc 52.3 | f1-score 0.502\n",
      "/output/result_dir/pg_18__epoch_1.pth.tar\n",
      "FINAL TEST: loss 1.42 | acc 47.4 | f1-score 0.443\n",
      "/output/result_dir/pg_19__epoch_6.pth.tar\n",
      "FINAL TEST: loss 1.20 | acc 56.6 | f1-score 0.545\n",
      "/output/result_dir/pg_18__epoch_8.pth.tar\n",
      "FINAL TEST: loss 1.21 | acc 55.5 | f1-score 0.535\n",
      "/output/result_dir/pg_17__epoch_4.pth.tar\n",
      "FINAL TEST: loss 1.27 | acc 52.4 | f1-score 0.507\n",
      "/output/result_dir/pg_17__epoch_1.pth.tar\n",
      "FINAL TEST: loss 1.43 | acc 46.9 | f1-score 0.423\n",
      "/output/result_dir/pg_0__epoch_1.pth.tar\n",
      "FINAL TEST: loss 1.35 | acc 48.1 | f1-score 0.444\n",
      "/output/result_dir/pg_12__epoch_2.pth.tar\n",
      "FINAL TEST: loss 1.36 | acc 51.2 | f1-score 0.473\n",
      "/output/result_dir/pg_21__epoch_1.pth.tar\n",
      "FINAL TEST: loss 1.43 | acc 48.7 | f1-score 0.442\n",
      "/output/result_dir/pg_10__epoch_2.pth.tar\n",
      "FINAL TEST: loss 1.27 | acc 52.1 | f1-score 0.489\n",
      "/output/result_dir/pg_17__epoch_7.pth.tar\n",
      "FINAL TEST: loss 1.21 | acc 55.5 | f1-score 0.536\n",
      "/output/result_dir/pg_21__epoch_7.pth.tar\n",
      "FINAL TEST: loss 1.25 | acc 54.4 | f1-score 0.520\n",
      "/output/result_dir/pg_16__epoch_15.pth.tar\n",
      "FINAL TEST: loss 1.23 | acc 55.3 | f1-score 0.537\n",
      "/output/result_dir/pg_4__epoch_11.pth.tar\n",
      "FINAL TEST: loss 1.38 | acc 54.9 | f1-score 0.536\n",
      "/output/result_dir/pg_14__epoch_1.pth.tar\n",
      "FINAL TEST: loss 1.46 | acc 45.4 | f1-score 0.423\n",
      "/output/result_dir/pg_18__epoch_9.pth.tar\n",
      "FINAL TEST: loss 1.21 | acc 55.0 | f1-score 0.532\n",
      "/output/result_dir/pg_1__epoch_2.pth.tar\n",
      "FINAL TEST: loss 1.25 | acc 53.5 | f1-score 0.513\n",
      "/output/result_dir/pg_14__epoch_2.pth.tar\n",
      "FINAL TEST: loss 1.34 | acc 51.5 | f1-score 0.476\n",
      "/output/result_dir/pg_9__epoch_2.pth.tar\n",
      "FINAL TEST: loss 1.25 | acc 52.1 | f1-score 0.482\n",
      "/output/result_dir/pg_18__epoch_2.pth.tar\n",
      "FINAL TEST: loss 1.36 | acc 49.8 | f1-score 0.466\n",
      "/output/result_dir/pg_19__epoch_2.pth.tar\n",
      "FINAL TEST: loss 1.32 | acc 52.4 | f1-score 0.490\n",
      "/output/result_dir/pg_8__epoch_5.pth.tar\n",
      "FINAL TEST: loss 1.19 | acc 56.4 | f1-score 0.543\n",
      "/output/result_dir/pg_11__epoch_5.pth.tar\n",
      "FINAL TEST: loss 1.19 | acc 54.6 | f1-score 0.519\n",
      "/output/result_dir/pg_11__epoch_6.pth.tar\n",
      "FINAL TEST: loss 1.18 | acc 56.2 | f1-score 0.540\n",
      "/output/result_dir/pg_17__epoch_2.pth.tar\n",
      "FINAL TEST: loss 1.39 | acc 48.7 | f1-score 0.462\n",
      "/output/result_dir/pg_3__epoch_8.pth.tar\n",
      "FINAL TEST: loss 1.28 | acc 53.7 | f1-score 0.521\n",
      "/output/result_dir/pg_22__epoch_1.pth.tar\n",
      "FINAL TEST: loss 1.42 | acc 50.1 | f1-score 0.461\n",
      "/output/result_dir/pg_21__epoch_14.pth.tar\n",
      "FINAL TEST: loss 1.23 | acc 52.8 | f1-score 0.525\n",
      "/output/result_dir/pg_5__epoch_2.pth.tar\n",
      "FINAL TEST: loss 1.26 | acc 52.7 | f1-score 0.485\n",
      "/output/result_dir/pg_19__epoch_1.pth.tar\n",
      "FINAL TEST: loss 1.43 | acc 47.0 | f1-score 0.420\n",
      "/output/result_dir/pg_7__epoch_3.pth.tar\n",
      "FINAL TEST: loss 1.22 | acc 52.4 | f1-score 0.505\n",
      "/output/result_dir/pg_23__epoch_1.pth.tar\n",
      "FINAL TEST: loss 1.51 | acc 44.8 | f1-score 0.398\n",
      "/output/result_dir/pg_20__epoch_7.pth.tar\n",
      "FINAL TEST: loss 1.21 | acc 53.9 | f1-score 0.527\n",
      "/output/result_dir/pg_20__epoch_1.pth.tar\n",
      "FINAL TEST: loss 1.46 | acc 43.6 | f1-score 0.409\n",
      "/output/result_dir/pg_13__epoch_7.pth.tar\n",
      "FINAL TEST: loss 1.20 | acc 54.2 | f1-score 0.518\n",
      "/output/result_dir/pg_9__epoch_8.pth.tar\n",
      "FINAL TEST: loss 1.24 | acc 54.9 | f1-score 0.541\n",
      "/output/result_dir/pg_4__epoch_7.pth.tar\n",
      "FINAL TEST: loss 1.20 | acc 55.7 | f1-score 0.545\n",
      "/output/result_dir/pg_5__epoch_5.pth.tar\n",
      "FINAL TEST: loss 1.18 | acc 56.4 | f1-score 0.542\n",
      "/output/result_dir/pg_10__epoch_4.pth.tar\n",
      "FINAL TEST: loss 1.21 | acc 54.2 | f1-score 0.514\n",
      "/output/result_dir/pg_2__epoch_2.pth.tar\n",
      "FINAL TEST: loss 1.23 | acc 52.3 | f1-score 0.506\n",
      "/output/result_dir/pg_12__epoch_9.pth.tar\n",
      "FINAL TEST: loss 1.23 | acc 55.5 | f1-score 0.540\n",
      "/output/result_dir/pg_16__epoch_10.pth.tar\n",
      "FINAL TEST: loss 1.19 | acc 56.2 | f1-score 0.544\n",
      "/output/result_dir/pg_6__epoch_3.pth.tar\n",
      "FINAL TEST: loss 1.22 | acc 52.8 | f1-score 0.510\n",
      "/output/result_dir/pg_4__epoch_8.pth.tar\n",
      "FINAL TEST: loss 1.25 | acc 56.4 | f1-score 0.551\n",
      "/output/result_dir/pg_10__epoch_6.pth.tar\n",
      "FINAL TEST: loss 1.19 | acc 53.7 | f1-score 0.519\n",
      "/output/result_dir/pg_3__epoch_2.pth.tar\n",
      "FINAL TEST: loss 1.27 | acc 51.6 | f1-score 0.484\n",
      "/output/result_dir/pg_22__epoch_12.pth.tar\n",
      "FINAL TEST: loss 1.17 | acc 57.8 | f1-score 0.559\n",
      "/output/result_dir/pg_21__epoch_5.pth.tar\n",
      "FINAL TEST: loss 1.27 | acc 53.4 | f1-score 0.517\n",
      "/output/result_dir/pg_13__epoch_3.pth.tar\n",
      "FINAL TEST: loss 1.32 | acc 53.0 | f1-score 0.496\n",
      "/output/result_dir/pg_1__epoch_5.pth.tar\n",
      "FINAL TEST: loss 1.16 | acc 55.5 | f1-score 0.546\n",
      "/output/result_dir/pg_15__epoch_5.pth.tar\n",
      "FINAL TEST: loss 1.25 | acc 53.9 | f1-score 0.514\n",
      "/output/result_dir/pg_21__epoch_4.pth.tar\n",
      "FINAL TEST: loss 1.31 | acc 50.8 | f1-score 0.471\n",
      "/output/result_dir/pg_15__epoch_2.pth.tar\n",
      "FINAL TEST: loss 1.33 | acc 51.3 | f1-score 0.473\n",
      "/output/result_dir/pg_4__epoch_6.pth.tar\n",
      "FINAL TEST: loss 1.20 | acc 55.3 | f1-score 0.533\n",
      "/output/result_dir/pg_16__epoch_4.pth.tar\n",
      "FINAL TEST: loss 1.29 | acc 53.3 | f1-score 0.505\n",
      "/output/result_dir/pg_17__epoch_6.pth.tar\n",
      "FINAL TEST: loss 1.21 | acc 56.0 | f1-score 0.535\n",
      "/output/result_dir/pg_15__epoch_6.pth.tar\n",
      "FINAL TEST: loss 1.24 | acc 54.9 | f1-score 0.527\n",
      "/output/result_dir/pg_22__epoch_4.pth.tar\n",
      "FINAL TEST: loss 1.29 | acc 53.1 | f1-score 0.503\n",
      "/output/result_dir/pg_7__epoch_2.pth.tar\n",
      "FINAL TEST: loss 1.26 | acc 51.3 | f1-score 0.493\n",
      "/output/result_dir/pg_16__epoch_18.pth.tar\n",
      "FINAL TEST: loss 1.28 | acc 53.3 | f1-score 0.519\n",
      "/output/result_dir/pg_12__epoch_4.pth.tar\n",
      "FINAL TEST: loss 1.30 | acc 51.2 | f1-score 0.493\n",
      "/output/result_dir/pg_22__epoch_13.pth.tar\n",
      "FINAL TEST: loss 1.18 | acc 55.3 | f1-score 0.539\n",
      "/output/result_dir/pg_2__epoch_3.pth.tar\n",
      "FINAL TEST: loss 1.21 | acc 54.5 | f1-score 0.530\n",
      "/output/result_dir/pg_22__epoch_2.pth.tar\n",
      "FINAL TEST: loss 1.35 | acc 49.9 | f1-score 0.468\n",
      "/output/result_dir/pg_16__epoch_5.pth.tar\n",
      "FINAL TEST: loss 1.26 | acc 53.1 | f1-score 0.501\n",
      "/output/result_dir/pg_13__epoch_4.pth.tar\n",
      "FINAL TEST: loss 1.25 | acc 54.8 | f1-score 0.523\n",
      "/output/result_dir/pg_4__epoch_3.pth.tar\n",
      "FINAL TEST: loss 1.20 | acc 55.2 | f1-score 0.534\n",
      "/output/result_dir/pg_6__epoch_4.pth.tar\n",
      "FINAL TEST: loss 1.19 | acc 53.9 | f1-score 0.519\n",
      "/output/result_dir/pg_13__epoch_6.pth.tar\n",
      "FINAL TEST: loss 1.21 | acc 55.2 | f1-score 0.533\n",
      "/output/result_dir/pg_0__epoch_3.pth.tar\n",
      "FINAL TEST: loss 1.22 | acc 53.5 | f1-score 0.506\n",
      "/output/result_dir/pg_18__epoch_3.pth.tar\n",
      "FINAL TEST: loss 1.30 | acc 52.3 | f1-score 0.485\n",
      "/output/result_dir/pg_12__epoch_6.pth.tar\n",
      "FINAL TEST: loss 1.26 | acc 56.4 | f1-score 0.549\n",
      "/output/result_dir/pg_16__epoch_8.pth.tar\n",
      "FINAL TEST: loss 1.22 | acc 55.3 | f1-score 0.536\n",
      "/output/result_dir/pg_0__epoch_11.pth.tar\n",
      "FINAL TEST: loss 1.35 | acc 54.6 | f1-score 0.544\n",
      "/output/result_dir/pg_16__epoch_3.pth.tar\n",
      "FINAL TEST: loss 1.31 | acc 52.0 | f1-score 0.496\n",
      "/output/result_dir/pg_23__epoch_3.pth.tar\n",
      "FINAL TEST: loss 1.32 | acc 51.0 | f1-score 0.477\n",
      "/output/result_dir/pg_6__epoch_6.pth.tar\n"
     ]
    },
    {
     "name": "stdout",
     "output_type": "stream",
     "text": [
      "FINAL TEST: loss 1.21 | acc 55.0 | f1-score 0.537\n",
      "/output/result_dir/pg_23__epoch_7.pth.tar\n",
      "FINAL TEST: loss 1.22 | acc 54.5 | f1-score 0.528\n",
      "/output/result_dir/pg_14__epoch_4.pth.tar\n",
      "FINAL TEST: loss 1.27 | acc 54.1 | f1-score 0.512\n",
      "/output/result_dir/pg_5__epoch_6.pth.tar\n",
      "FINAL TEST: loss 1.18 | acc 55.5 | f1-score 0.538\n",
      "/output/result_dir/pg_21__epoch_9.pth.tar\n",
      "FINAL TEST: loss 1.21 | acc 53.8 | f1-score 0.518\n",
      "/output/result_dir/pg_18__epoch_4.pth.tar\n",
      "FINAL TEST: loss 1.26 | acc 53.0 | f1-score 0.500\n",
      "/output/result_dir/pg_17__epoch_3.pth.tar\n",
      "FINAL TEST: loss 1.34 | acc 51.0 | f1-score 0.493\n",
      "/output/result_dir/pg_16__epoch_2.pth.tar\n",
      "FINAL TEST: loss 1.33 | acc 52.1 | f1-score 0.481\n",
      "/output/result_dir/pg_8__epoch_3.pth.tar\n",
      "FINAL TEST: loss 1.23 | acc 53.3 | f1-score 0.499\n",
      "/output/result_dir/pg_13__epoch_5.pth.tar\n",
      "FINAL TEST: loss 1.27 | acc 51.3 | f1-score 0.503\n",
      "/output/result_dir/pg_5__epoch_4.pth.tar\n",
      "FINAL TEST: loss 1.21 | acc 53.3 | f1-score 0.497\n",
      "/output/result_dir/pg_11__epoch_10.pth.tar\n",
      "FINAL TEST: loss 1.21 | acc 56.2 | f1-score 0.550\n",
      "/output/result_dir/pg_9__epoch_4.pth.tar\n",
      "FINAL TEST: loss 1.23 | acc 52.1 | f1-score 0.497\n",
      "/output/result_dir/pg_16__epoch_1.pth.tar\n",
      "FINAL TEST: loss 1.48 | acc 47.2 | f1-score 0.458\n",
      "/output/result_dir/pg_10__epoch_1.pth.tar\n",
      "FINAL TEST: loss 1.33 | acc 48.7 | f1-score 0.439\n",
      "/output/result_dir/pg_9__epoch_6.pth.tar\n",
      "FINAL TEST: loss 1.20 | acc 54.8 | f1-score 0.531\n",
      "/output/result_dir/pg_6__epoch_11.pth.tar\n",
      "FINAL TEST: loss 1.42 | acc 51.0 | f1-score 0.496\n",
      "/output/result_dir/pg_0__epoch_2.pth.tar\n",
      "FINAL TEST: loss 1.29 | acc 50.2 | f1-score 0.473\n",
      "/output/result_dir/pg_22__epoch_16.pth.tar\n",
      "FINAL TEST: loss 1.16 | acc 58.0 | f1-score 0.563\n",
      "/output/result_dir/pg_9__epoch_3.pth.tar\n",
      "FINAL TEST: loss 1.25 | acc 53.3 | f1-score 0.499\n",
      "/output/result_dir/pg_14__epoch_12.pth.tar\n",
      "FINAL TEST: loss 1.28 | acc 55.9 | f1-score 0.544\n",
      "/output/result_dir/pg_6__epoch_1.pth.tar\n",
      "FINAL TEST: loss 1.32 | acc 47.9 | f1-score 0.443\n",
      "/output/result_dir/pg_22__epoch_6.pth.tar\n",
      "FINAL TEST: loss 1.26 | acc 53.5 | f1-score 0.518\n",
      "/output/result_dir/pg_5__epoch_1.pth.tar\n",
      "FINAL TEST: loss 1.41 | acc 46.7 | f1-score 0.404\n",
      "/output/result_dir/pg_16__epoch_21.pth.tar\n",
      "FINAL TEST: loss 1.29 | acc 53.8 | f1-score 0.529\n",
      "/output/result_dir/pg_11__epoch_9.pth.tar\n",
      "FINAL TEST: loss 1.18 | acc 56.8 | f1-score 0.551\n",
      "/output/result_dir/pg_21__epoch_3.pth.tar\n",
      "FINAL TEST: loss 1.35 | acc 51.5 | f1-score 0.489\n",
      "/output/result_dir/pg_20__epoch_2.pth.tar\n",
      "FINAL TEST: loss 1.36 | acc 49.5 | f1-score 0.461\n",
      "/output/result_dir/pg_6__epoch_2.pth.tar\n",
      "FINAL TEST: loss 1.24 | acc 53.3 | f1-score 0.508\n",
      "/output/result_dir/pg_20__epoch_3.pth.tar\n",
      "FINAL TEST: loss 1.29 | acc 53.5 | f1-score 0.516\n",
      "/output/result_dir/pg_23__epoch_4.pth.tar\n",
      "FINAL TEST: loss 1.30 | acc 52.1 | f1-score 0.500\n",
      "/output/result_dir/pg_17__epoch_12.pth.tar\n",
      "FINAL TEST: loss 1.19 | acc 58.1 | f1-score 0.566\n",
      "/output/result_dir/pg_15__epoch_1.pth.tar\n",
      "FINAL TEST: loss 1.43 | acc 45.9 | f1-score 0.423\n",
      "/output/result_dir/pg_21__epoch_2.pth.tar\n",
      "FINAL TEST: loss 1.38 | acc 49.7 | f1-score 0.470\n",
      "/output/result_dir/pg_22__epoch_3.pth.tar\n",
      "FINAL TEST: loss 1.31 | acc 53.0 | f1-score 0.494\n",
      "/output/result_dir/pg_9__epoch_7.pth.tar\n",
      "FINAL TEST: loss 1.23 | acc 54.4 | f1-score 0.522\n",
      "/output/result_dir/pg_3__epoch_4.pth.tar\n",
      "FINAL TEST: loss 1.21 | acc 53.9 | f1-score 0.519\n",
      "/output/result_dir/pg_8__epoch_4.pth.tar\n",
      "FINAL TEST: loss 1.19 | acc 55.9 | f1-score 0.535\n",
      "/output/result_dir/pg_0__epoch_6.pth.tar\n",
      "FINAL TEST: loss 1.21 | acc 55.0 | f1-score 0.532\n",
      "/output/result_dir/pg_10__epoch_3.pth.tar\n",
      "FINAL TEST: loss 1.22 | acc 52.8 | f1-score 0.509\n",
      "/output/result_dir/pg_23__epoch_5.pth.tar\n",
      "FINAL TEST: loss 1.30 | acc 52.6 | f1-score 0.509\n",
      "/output/result_dir/pg_0__epoch_4.pth.tar\n",
      "FINAL TEST: loss 1.21 | acc 54.9 | f1-score 0.525\n",
      "/output/result_dir/pg_4__epoch_4.pth.tar\n",
      "FINAL TEST: loss 1.23 | acc 54.6 | f1-score 0.511\n",
      "/output/result_dir/pg_0__epoch_5.pth.tar\n",
      "FINAL TEST: loss 1.21 | acc 53.8 | f1-score 0.520\n",
      "/output/result_dir/pg_2__epoch_6.pth.tar\n",
      "FINAL TEST: loss 1.21 | acc 55.5 | f1-score 0.540\n",
      "/output/result_dir/pg_23__epoch_8.pth.tar\n",
      "FINAL TEST: loss 1.21 | acc 55.9 | f1-score 0.531\n",
      "/output/result_dir/pg_10__epoch_13.pth.tar\n",
      "FINAL TEST: loss 1.37 | acc 54.2 | f1-score 0.533\n",
      "/output/result_dir/pg_8__epoch_2.pth.tar\n",
      "FINAL TEST: loss 1.27 | acc 50.8 | f1-score 0.474\n",
      "/output/result_dir/pg_19__epoch_4.pth.tar\n",
      "FINAL TEST: loss 1.26 | acc 53.8 | f1-score 0.510\n",
      "/output/result_dir/pg_20__epoch_4.pth.tar\n",
      "FINAL TEST: loss 1.26 | acc 54.8 | f1-score 0.523\n",
      "/output/result_dir/pg_19__epoch_3.pth.tar\n",
      "FINAL TEST: loss 1.29 | acc 51.9 | f1-score 0.499\n",
      "/output/result_dir/pg_2__epoch_1.pth.tar\n",
      "FINAL TEST: loss 1.32 | acc 49.4 | f1-score 0.460\n",
      "/output/result_dir/pg_21__epoch_13.pth.tar\n",
      "FINAL TEST: loss 1.20 | acc 56.0 | f1-score 0.547\n",
      "/output/result_dir/pg_17__epoch_22.pth.tar\n",
      "FINAL TEST: loss 1.33 | acc 54.6 | f1-score 0.537\n",
      "/output/result_dir/pg_22__epoch_7.pth.tar\n",
      "FINAL TEST: loss 1.21 | acc 55.2 | f1-score 0.531\n",
      "/output/result_dir/pg_15__epoch_10.pth.tar\n",
      "FINAL TEST: loss 1.18 | acc 55.7 | f1-score 0.537\n",
      "/output/result_dir/pg_4__epoch_2.pth.tar\n",
      "FINAL TEST: loss 1.24 | acc 53.0 | f1-score 0.497\n",
      "/output/result_dir/pg_9__epoch_1.pth.tar\n",
      "FINAL TEST: loss 1.31 | acc 49.8 | f1-score 0.448\n",
      "/output/result_dir/pg_23__epoch_6.pth.tar\n",
      "FINAL TEST: loss 1.24 | acc 54.9 | f1-score 0.521\n",
      "/output/result_dir/pg_5__epoch_3.pth.tar\n",
      "FINAL TEST: loss 1.26 | acc 52.0 | f1-score 0.506\n",
      "/output/result_dir/pg_13__epoch_2.pth.tar\n",
      "FINAL TEST: loss 1.37 | acc 50.5 | f1-score 0.473\n",
      "/output/result_dir/pg_23__epoch_15.pth.tar\n",
      "FINAL TEST: loss 1.18 | acc 56.6 | f1-score 0.557\n",
      "/output/result_dir/pg_15__epoch_3.pth.tar\n",
      "FINAL TEST: loss 1.32 | acc 51.7 | f1-score 0.488\n",
      "/output/result_dir/pg_13__epoch_1.pth.tar\n",
      "FINAL TEST: loss 1.41 | acc 48.3 | f1-score 0.436\n",
      "/output/result_dir/pg_1__epoch_1.pth.tar\n",
      "FINAL TEST: loss 1.30 | acc 49.5 | f1-score 0.458\n",
      "/output/result_dir/pg_23__epoch_2.pth.tar\n",
      "FINAL TEST: loss 1.38 | acc 46.5 | f1-score 0.420\n",
      "/output/result_dir/pg_14__epoch_10.pth.tar\n",
      "FINAL TEST: loss 1.21 | acc 53.7 | f1-score 0.532\n",
      "/output/result_dir/pg_4__epoch_1.pth.tar\n",
      "FINAL TEST: loss 1.33 | acc 48.7 | f1-score 0.435\n",
      "/output/result_dir/pg_14__epoch_6.pth.tar\n",
      "FINAL TEST: loss 1.25 | acc 55.2 | f1-score 0.541\n",
      "/output/result_dir/pg_7__epoch_1.pth.tar\n",
      "FINAL TEST: loss 1.32 | acc 47.2 | f1-score 0.421\n"
     ]
    }
   ],
   "source": [
    "rec_list = []\n",
    "for ch in checkpoints:\n",
    "    rd = evaluate_on_test(ch)\n",
    "    rec_list.append(rd)"
   ]
  },
  {
   "cell_type": "code",
   "execution_count": 46,
   "metadata": {},
   "outputs": [],
   "source": [
    "res_df = pd.DataFrame(rec_list)[['pg', 'epoch', 'test_avg_loss', 'test_acc', 'f1_score']]"
   ]
  },
  {
   "cell_type": "code",
   "execution_count": 47,
   "metadata": {},
   "outputs": [
    {
     "data": {
      "text/html": [
       "<div>\n",
       "<style>\n",
       "    .dataframe thead tr:only-child th {\n",
       "        text-align: right;\n",
       "    }\n",
       "\n",
       "    .dataframe thead th {\n",
       "        text-align: left;\n",
       "    }\n",
       "\n",
       "    .dataframe tbody tr th {\n",
       "        vertical-align: top;\n",
       "    }\n",
       "</style>\n",
       "<table border=\"1\" class=\"dataframe\">\n",
       "  <thead>\n",
       "    <tr style=\"text-align: right;\">\n",
       "      <th></th>\n",
       "      <th>pg</th>\n",
       "      <th>epoch</th>\n",
       "      <th>test_avg_loss</th>\n",
       "      <th>test_acc</th>\n",
       "      <th>f1_score</th>\n",
       "      <th>rank</th>\n",
       "    </tr>\n",
       "  </thead>\n",
       "  <tbody>\n",
       "    <tr>\n",
       "      <th>0</th>\n",
       "      <td>17</td>\n",
       "      <td>12</td>\n",
       "      <td>1.189121</td>\n",
       "      <td>0.580913</td>\n",
       "      <td>0.565772</td>\n",
       "      <td>1</td>\n",
       "    </tr>\n",
       "    <tr>\n",
       "      <th>1</th>\n",
       "      <td>22</td>\n",
       "      <td>16</td>\n",
       "      <td>1.158638</td>\n",
       "      <td>0.579530</td>\n",
       "      <td>0.563450</td>\n",
       "      <td>2</td>\n",
       "    </tr>\n",
       "    <tr>\n",
       "      <th>2</th>\n",
       "      <td>22</td>\n",
       "      <td>12</td>\n",
       "      <td>1.171896</td>\n",
       "      <td>0.578147</td>\n",
       "      <td>0.559408</td>\n",
       "      <td>3</td>\n",
       "    </tr>\n",
       "    <tr>\n",
       "      <th>3</th>\n",
       "      <td>11</td>\n",
       "      <td>9</td>\n",
       "      <td>1.183090</td>\n",
       "      <td>0.568465</td>\n",
       "      <td>0.550840</td>\n",
       "      <td>4</td>\n",
       "    </tr>\n",
       "    <tr>\n",
       "      <th>4</th>\n",
       "      <td>19</td>\n",
       "      <td>6</td>\n",
       "      <td>1.195676</td>\n",
       "      <td>0.565698</td>\n",
       "      <td>0.545025</td>\n",
       "      <td>5</td>\n",
       "    </tr>\n",
       "  </tbody>\n",
       "</table>\n",
       "</div>"
      ],
      "text/plain": [
       "   pg  epoch  test_avg_loss  test_acc  f1_score  rank\n",
       "0  17     12       1.189121  0.580913  0.565772     1\n",
       "1  22     16       1.158638  0.579530  0.563450     2\n",
       "2  22     12       1.171896  0.578147  0.559408     3\n",
       "3  11      9       1.183090  0.568465  0.550840     4\n",
       "4  19      6       1.195676  0.565698  0.545025     5"
      ]
     },
     "execution_count": 47,
     "metadata": {},
     "output_type": "execute_result"
    }
   ],
   "source": [
    "by_accuracy = res_df.sort_values(by='test_acc', ascending=False).reset_index(drop=True)\n",
    "by_accuracy['rank'] = by_accuracy.index + 1\n",
    "by_accuracy.head()"
   ]
  },
  {
   "cell_type": "code",
   "execution_count": 48,
   "metadata": {},
   "outputs": [
    {
     "data": {
      "text/html": [
       "<div>\n",
       "<style>\n",
       "    .dataframe thead tr:only-child th {\n",
       "        text-align: right;\n",
       "    }\n",
       "\n",
       "    .dataframe thead th {\n",
       "        text-align: left;\n",
       "    }\n",
       "\n",
       "    .dataframe tbody tr th {\n",
       "        vertical-align: top;\n",
       "    }\n",
       "</style>\n",
       "<table border=\"1\" class=\"dataframe\">\n",
       "  <thead>\n",
       "    <tr style=\"text-align: right;\">\n",
       "      <th></th>\n",
       "      <th>pg</th>\n",
       "      <th>epoch</th>\n",
       "      <th>test_avg_loss</th>\n",
       "      <th>test_acc</th>\n",
       "      <th>f1_score</th>\n",
       "      <th>rank</th>\n",
       "    </tr>\n",
       "  </thead>\n",
       "  <tbody>\n",
       "    <tr>\n",
       "      <th>0</th>\n",
       "      <td>17</td>\n",
       "      <td>12</td>\n",
       "      <td>1.189121</td>\n",
       "      <td>0.580913</td>\n",
       "      <td>0.565772</td>\n",
       "      <td>1</td>\n",
       "    </tr>\n",
       "    <tr>\n",
       "      <th>1</th>\n",
       "      <td>22</td>\n",
       "      <td>16</td>\n",
       "      <td>1.158638</td>\n",
       "      <td>0.579530</td>\n",
       "      <td>0.563450</td>\n",
       "      <td>2</td>\n",
       "    </tr>\n",
       "    <tr>\n",
       "      <th>2</th>\n",
       "      <td>22</td>\n",
       "      <td>12</td>\n",
       "      <td>1.171896</td>\n",
       "      <td>0.578147</td>\n",
       "      <td>0.559408</td>\n",
       "      <td>3</td>\n",
       "    </tr>\n",
       "    <tr>\n",
       "      <th>3</th>\n",
       "      <td>23</td>\n",
       "      <td>15</td>\n",
       "      <td>1.183138</td>\n",
       "      <td>0.565698</td>\n",
       "      <td>0.556997</td>\n",
       "      <td>4</td>\n",
       "    </tr>\n",
       "    <tr>\n",
       "      <th>4</th>\n",
       "      <td>22</td>\n",
       "      <td>15</td>\n",
       "      <td>1.170758</td>\n",
       "      <td>0.565698</td>\n",
       "      <td>0.554061</td>\n",
       "      <td>5</td>\n",
       "    </tr>\n",
       "  </tbody>\n",
       "</table>\n",
       "</div>"
      ],
      "text/plain": [
       "   pg  epoch  test_avg_loss  test_acc  f1_score  rank\n",
       "0  17     12       1.189121  0.580913  0.565772     1\n",
       "1  22     16       1.158638  0.579530  0.563450     2\n",
       "2  22     12       1.171896  0.578147  0.559408     3\n",
       "3  23     15       1.183138  0.565698  0.556997     4\n",
       "4  22     15       1.170758  0.565698  0.554061     5"
      ]
     },
     "execution_count": 48,
     "metadata": {},
     "output_type": "execute_result"
    }
   ],
   "source": [
    "by_f1 = res_df.sort_values(by='f1_score', ascending=False).reset_index(drop=True)\n",
    "by_f1['rank'] = by_f1.index + 1\n",
    "by_f1.head()"
   ]
  },
  {
   "cell_type": "code",
   "execution_count": 49,
   "metadata": {},
   "outputs": [],
   "source": [
    "res_df['pg_epoch'] = \"pg_\" + res_df.pg.map(str) + \"__\" + \"epoch_\" + res_df.epoch.map(str)\n",
    "res_df2 = res_df.set_index('pg_epoch')[['test_acc', 'f1_score']]"
   ]
  },
  {
   "cell_type": "markdown",
   "metadata": {},
   "source": [
    "It seems that the test accuracy and f1-score are in a linear relationship. Taking into consideration that the dataset was imbalance, f1-score should be the proper metric to decide the best model. Thus, pg_17 at epoch 12 is the best performing model among 24 LSTM models I trained. (and in terms of test accuracy)"
   ]
  },
  {
   "cell_type": "code",
   "execution_count": 50,
   "metadata": {},
   "outputs": [
    {
     "data": {
      "image/png": "[encoded data removed]",
      "text/plain": [
       "<matplotlib.figure.Figure at 0x7f6335139dd8>"
      ]
     },
     "metadata": {},
     "output_type": "display_data"
    }
   ],
   "source": [
    "import matplotlib.pyplot as plt\n",
    "%matplotlib inline\n",
    "\n",
    "fig, ax = plt.subplots(figsize=(6, 6))\n",
    "ax.scatter(res_df2.test_acc, res_df2.f1_score)\n",
    "\n",
    "ax.set_xlabel('test accuracy')\n",
    "ax.set_ylabel('test f1 score')\n",
    "\n",
    "ax.set_title('checkpoint accuracy ~ f1-score scatterplot')\n",
    "plt.show()"
   ]
  },
  {
   "cell_type": "markdown",
   "metadata": {},
   "source": [
    "pg_17 has three bidirectional layers with lstm dropout 0.5 and fc dropout 0.5."
   ]
  },
  {
   "cell_type": "code",
   "execution_count": 51,
   "metadata": {},
   "outputs": [
    {
     "data": {
      "text/plain": [
       "{'BATCH_SIZE': 16,\n",
       " 'EMBEDDING_DIM': 100,\n",
       " 'HIDDEN_DIM': 100,\n",
       " 'fc_dropout': 0.5,\n",
       " 'lstm_bidirectional': True,\n",
       " 'lstm_dropout': 0.5,\n",
       " 'nb_1stm_layers': 3}"
      ]
     },
     "execution_count": 51,
     "metadata": {},
     "output_type": "execute_result"
    }
   ],
   "source": [
    "param_grids[17]"
   ]
  },
  {
   "cell_type": "code",
   "execution_count": 52,
   "metadata": {},
   "outputs": [],
   "source": [
    "def visualise_checkpoint(pg, epoch):\n",
    "    print(param_grids[pg])\n",
    "    pg_df = pd.read_csv(out_dir + \"/pg_{}__record.csv\".format(pg))\n",
    "    pg_df.set_index('epoch', inplace=True)\n",
    "    best_epoch = epoch\n",
    "    \n",
    "    fig, ax = plt.subplots(1, 3, figsize=(16, 4))\n",
    "\n",
    "    ax[0].plot(pg_df.training_loss)\n",
    "    ax[0].plot(pg_df.val_loss)\n",
    "    ax[0].vlines(best_epoch, 0.75, 1.8, color='r', linewidth=3, label='epoch={}'.format(best_epoch), alpha=0.25)\n",
    "    ax[0].legend()\n",
    "    ax[0].set_ylabel('loss')\n",
    "    ax[0].set_xlabel('epoch')\n",
    "\n",
    "    ax[1].plot(pg_df.training_acc)\n",
    "    ax[1].plot(pg_df.val_acc)\n",
    "    ax[1].vlines(best_epoch, 0.4, 0.65, color='r', linewidth=3, label='epoch={}'.format(best_epoch), alpha=0.25)\n",
    "    ax[1].legend()\n",
    "    ax[1].set_ylabel('accuracy')\n",
    "    ax[1].set_xlabel('epoch')\n",
    "\n",
    "    ax[2].plot(pg_df.train_f1)\n",
    "    ax[2].plot(pg_df.test_f1, label='val_f1')\n",
    "    ax[2].vlines(best_epoch, 0.3, 0.65, color='r', linewidth=3, label='epoch={}'.format(best_epoch), alpha=0.25)\n",
    "    ax[2].legend()\n",
    "    ax[2].set_ylabel('f1')\n",
    "    ax[2].set_xlabel('epoch')\n",
    "\n",
    "    fig.suptitle(\"pg_{} metrics over epochs\".format(pg), fontsize=15)\n",
    "\n",
    "    plt.show()"
   ]
  },
  {
   "cell_type": "markdown",
   "metadata": {},
   "source": [
    "It looks like pg_17 started suffering from overfitting after 14~15 epoch going by the rising validation loss. However, pg_17 managed to deal with overfitting better than others especially when compared to other models like pg_0 that has its dropout options deactivated."
   ]
  },
  {
   "cell_type": "code",
   "execution_count": 53,
   "metadata": {},
   "outputs": [
    {
     "name": "stdout",
     "output_type": "stream",
     "text": [
      "{'BATCH_SIZE': 16, 'EMBEDDING_DIM': 100, 'HIDDEN_DIM': 100, 'fc_dropout': 0.5, 'lstm_bidirectional': True, 'lstm_dropout': 0.5, 'nb_1stm_layers': 3}\n"
     ]
    },
    {
     "data": {
      "image/png": "[encoded data removed]",
      "text/plain": [
       "<matplotlib.figure.Figure at 0x7f63a1d20ba8>"
      ]
     },
     "metadata": {},
     "output_type": "display_data"
    }
   ],
   "source": [
    "visualise_checkpoint(17, 12)"
   ]
  },
  {
   "cell_type": "code",
   "execution_count": 54,
   "metadata": {},
   "outputs": [
    {
     "name": "stdout",
     "output_type": "stream",
     "text": [
      "{'BATCH_SIZE': 16, 'EMBEDDING_DIM': 100, 'HIDDEN_DIM': 100, 'fc_dropout': 0, 'lstm_bidirectional': True, 'lstm_dropout': 0, 'nb_1stm_layers': 1}\n"
     ]
    },
    {
     "data": {
      "image/png": "[encoded data removed]",
      "text/plain": [
       "<matplotlib.figure.Figure at 0x7f62f483b0b8>"
      ]
     },
     "metadata": {},
     "output_type": "display_data"
    }
   ],
   "source": [
    "visualise_checkpoint(0, 7)"
   ]
  },
  {
   "cell_type": "markdown",
   "metadata": {},
   "source": [
    "## Inference Test & Confusion Matrix"
   ]
  },
  {
   "cell_type": "code",
   "execution_count": 55,
   "metadata": {},
   "outputs": [],
   "source": [
    "best_model_path = out_dir + '/pg_{}__epoch_{}.pth.tar'.format(17, 12)"
   ]
  },
  {
   "cell_type": "code",
   "execution_count": 56,
   "metadata": {},
   "outputs": [],
   "source": [
    "best_model = load_params(LSTMModel, param_grids[17], use_gpu)\n",
    "checkpoint = torch.load(best_model_path, map_location={'cuda:0': 'cpu'})\n",
    "best_model.load_state_dict(checkpoint['state_dict'])"
   ]
  },
  {
   "cell_type": "code",
   "execution_count": 57,
   "metadata": {},
   "outputs": [],
   "source": [
    "def inference(model, target, use_gpu):\n",
    "    model.eval()\n",
    "    if use_gpu:\n",
    "        targetTensor = Variable(torch.Tensor([CITY.vocab.stoi[c] for c in CITY.preprocess(target)]).cuda().type(torch.LongTensor).view(len(target), -1)).cuda()\n",
    "    else:\n",
    "        targetTensor = Variable(torch.Tensor([CITY.vocab.stoi[c] for c in CITY.preprocess(target)]).type(torch.LongTensor).view(len(target), -1))\n",
    "    model.hidden = model.init_hidden()\n",
    "    model.batch_size = 1\n",
    "    pred = model(targetTensor)\n",
    "    res_df = pd.DataFrame([(idx, pred_val) for idx, pred_val in enumerate(pred.data.cpu().numpy()[0])], columns=['res_idx', 'nll'])\n",
    "    res_df['prob'] = res_df.nll.map(lambda x: round(np.exp(x), 3))\n",
    "    res_df['continent'] = res_df.res_idx.map(lambda x: CONTINENT.vocab.itos[x+1])\n",
    "    res_df = res_df.sort_values(by='prob', ascending=False)\n",
    "    return res_df"
   ]
  },
  {
   "cell_type": "code",
   "execution_count": 59,
   "metadata": {},
   "outputs": [
    {
     "data": {
      "text/html": [
       "<div>\n",
       "<style>\n",
       "    .dataframe thead tr:only-child th {\n",
       "        text-align: right;\n",
       "    }\n",
       "\n",
       "    .dataframe thead th {\n",
       "        text-align: left;\n",
       "    }\n",
       "\n",
       "    .dataframe tbody tr th {\n",
       "        vertical-align: top;\n",
       "    }\n",
       "</style>\n",
       "<table border=\"1\" class=\"dataframe\">\n",
       "  <thead>\n",
       "    <tr style=\"text-align: right;\">\n",
       "      <th></th>\n",
       "      <th>res_idx</th>\n",
       "      <th>nll</th>\n",
       "      <th>prob</th>\n",
       "      <th>continent</th>\n",
       "    </tr>\n",
       "  </thead>\n",
       "  <tbody>\n",
       "    <tr>\n",
       "      <th>0</th>\n",
       "      <td>0</td>\n",
       "      <td>-0.014178</td>\n",
       "      <td>0.986</td>\n",
       "      <td>Asia</td>\n",
       "    </tr>\n",
       "    <tr>\n",
       "      <th>2</th>\n",
       "      <td>2</td>\n",
       "      <td>-5.159672</td>\n",
       "      <td>0.006</td>\n",
       "      <td>Africa</td>\n",
       "    </tr>\n",
       "    <tr>\n",
       "      <th>4</th>\n",
       "      <td>4</td>\n",
       "      <td>-5.615287</td>\n",
       "      <td>0.004</td>\n",
       "      <td>Europe</td>\n",
       "    </tr>\n",
       "    <tr>\n",
       "      <th>1</th>\n",
       "      <td>1</td>\n",
       "      <td>-6.272159</td>\n",
       "      <td>0.002</td>\n",
       "      <td>North America</td>\n",
       "    </tr>\n",
       "    <tr>\n",
       "      <th>5</th>\n",
       "      <td>5</td>\n",
       "      <td>-6.410239</td>\n",
       "      <td>0.002</td>\n",
       "      <td>Oceania</td>\n",
       "    </tr>\n",
       "    <tr>\n",
       "      <th>3</th>\n",
       "      <td>3</td>\n",
       "      <td>-6.759290</td>\n",
       "      <td>0.001</td>\n",
       "      <td>South America</td>\n",
       "    </tr>\n",
       "  </tbody>\n",
       "</table>\n",
       "</div>"
      ],
      "text/plain": [
       "   res_idx       nll   prob      continent\n",
       "0        0 -0.014178  0.986           Asia\n",
       "2        2 -5.159672  0.006         Africa\n",
       "4        4 -5.615287  0.004         Europe\n",
       "1        1 -6.272159  0.002  North America\n",
       "5        5 -6.410239  0.002        Oceania\n",
       "3        3 -6.759290  0.001  South America"
      ]
     },
     "execution_count": 59,
     "metadata": {},
     "output_type": "execute_result"
    }
   ],
   "source": [
    "inference(best_model, 'Pyeongchang', use_gpu)"
   ]
  },
  {
   "cell_type": "code",
   "execution_count": 60,
   "metadata": {},
   "outputs": [
    {
     "data": {
      "text/html": [
       "<div>\n",
       "<style>\n",
       "    .dataframe thead tr:only-child th {\n",
       "        text-align: right;\n",
       "    }\n",
       "\n",
       "    .dataframe thead th {\n",
       "        text-align: left;\n",
       "    }\n",
       "\n",
       "    .dataframe tbody tr th {\n",
       "        vertical-align: top;\n",
       "    }\n",
       "</style>\n",
       "<table border=\"1\" class=\"dataframe\">\n",
       "  <thead>\n",
       "    <tr style=\"text-align: right;\">\n",
       "      <th></th>\n",
       "      <th>res_idx</th>\n",
       "      <th>nll</th>\n",
       "      <th>prob</th>\n",
       "      <th>continent</th>\n",
       "    </tr>\n",
       "  </thead>\n",
       "  <tbody>\n",
       "    <tr>\n",
       "      <th>0</th>\n",
       "      <td>0</td>\n",
       "      <td>-0.017561</td>\n",
       "      <td>0.983</td>\n",
       "      <td>Asia</td>\n",
       "    </tr>\n",
       "    <tr>\n",
       "      <th>2</th>\n",
       "      <td>2</td>\n",
       "      <td>-4.879560</td>\n",
       "      <td>0.008</td>\n",
       "      <td>Africa</td>\n",
       "    </tr>\n",
       "    <tr>\n",
       "      <th>4</th>\n",
       "      <td>4</td>\n",
       "      <td>-5.401738</td>\n",
       "      <td>0.005</td>\n",
       "      <td>Europe</td>\n",
       "    </tr>\n",
       "    <tr>\n",
       "      <th>1</th>\n",
       "      <td>1</td>\n",
       "      <td>-6.174614</td>\n",
       "      <td>0.002</td>\n",
       "      <td>North America</td>\n",
       "    </tr>\n",
       "    <tr>\n",
       "      <th>5</th>\n",
       "      <td>5</td>\n",
       "      <td>-6.269334</td>\n",
       "      <td>0.002</td>\n",
       "      <td>Oceania</td>\n",
       "    </tr>\n",
       "    <tr>\n",
       "      <th>3</th>\n",
       "      <td>3</td>\n",
       "      <td>-6.627199</td>\n",
       "      <td>0.001</td>\n",
       "      <td>South America</td>\n",
       "    </tr>\n",
       "  </tbody>\n",
       "</table>\n",
       "</div>"
      ],
      "text/plain": [
       "   res_idx       nll   prob      continent\n",
       "0        0 -0.017561  0.983           Asia\n",
       "2        2 -4.879560  0.008         Africa\n",
       "4        4 -5.401738  0.005         Europe\n",
       "1        1 -6.174614  0.002  North America\n",
       "5        5 -6.269334  0.002        Oceania\n",
       "3        3 -6.627199  0.001  South America"
      ]
     },
     "execution_count": 60,
     "metadata": {},
     "output_type": "execute_result"
    }
   ],
   "source": [
    "inference(best_model, 'Pyongyang', use_gpu)"
   ]
  },
  {
   "cell_type": "markdown",
   "metadata": {},
   "source": [
    "Voila! pg_17 got the answers correct! What about some tricky England cities that sound like the ones in North America?"
   ]
  },
  {
   "cell_type": "code",
   "execution_count": 61,
   "metadata": {},
   "outputs": [
    {
     "data": {
      "text/html": [
       "<div>\n",
       "<style>\n",
       "    .dataframe thead tr:only-child th {\n",
       "        text-align: right;\n",
       "    }\n",
       "\n",
       "    .dataframe thead th {\n",
       "        text-align: left;\n",
       "    }\n",
       "\n",
       "    .dataframe tbody tr th {\n",
       "        vertical-align: top;\n",
       "    }\n",
       "</style>\n",
       "<table border=\"1\" class=\"dataframe\">\n",
       "  <thead>\n",
       "    <tr style=\"text-align: right;\">\n",
       "      <th></th>\n",
       "      <th>res_idx</th>\n",
       "      <th>nll</th>\n",
       "      <th>prob</th>\n",
       "      <th>continent</th>\n",
       "    </tr>\n",
       "  </thead>\n",
       "  <tbody>\n",
       "    <tr>\n",
       "      <th>1</th>\n",
       "      <td>1</td>\n",
       "      <td>-0.321180</td>\n",
       "      <td>0.725</td>\n",
       "      <td>North America</td>\n",
       "    </tr>\n",
       "    <tr>\n",
       "      <th>5</th>\n",
       "      <td>5</td>\n",
       "      <td>-2.430576</td>\n",
       "      <td>0.088</td>\n",
       "      <td>Oceania</td>\n",
       "    </tr>\n",
       "    <tr>\n",
       "      <th>2</th>\n",
       "      <td>2</td>\n",
       "      <td>-2.543775</td>\n",
       "      <td>0.079</td>\n",
       "      <td>Africa</td>\n",
       "    </tr>\n",
       "    <tr>\n",
       "      <th>4</th>\n",
       "      <td>4</td>\n",
       "      <td>-2.955052</td>\n",
       "      <td>0.052</td>\n",
       "      <td>Europe</td>\n",
       "    </tr>\n",
       "    <tr>\n",
       "      <th>0</th>\n",
       "      <td>0</td>\n",
       "      <td>-3.102797</td>\n",
       "      <td>0.045</td>\n",
       "      <td>Asia</td>\n",
       "    </tr>\n",
       "    <tr>\n",
       "      <th>3</th>\n",
       "      <td>3</td>\n",
       "      <td>-4.496040</td>\n",
       "      <td>0.011</td>\n",
       "      <td>South America</td>\n",
       "    </tr>\n",
       "  </tbody>\n",
       "</table>\n",
       "</div>"
      ],
      "text/plain": [
       "   res_idx       nll   prob      continent\n",
       "1        1 -0.321180  0.725  North America\n",
       "5        5 -2.430576  0.088        Oceania\n",
       "2        2 -2.543775  0.079         Africa\n",
       "4        4 -2.955052  0.052         Europe\n",
       "0        0 -3.102797  0.045           Asia\n",
       "3        3 -4.496040  0.011  South America"
      ]
     },
     "execution_count": 61,
     "metadata": {},
     "output_type": "execute_result"
    }
   ],
   "source": [
    "inference(best_model, 'Sheffield', use_gpu)"
   ]
  },
  {
   "cell_type": "code",
   "execution_count": 62,
   "metadata": {},
   "outputs": [
    {
     "data": {
      "text/html": [
       "<div>\n",
       "<style>\n",
       "    .dataframe thead tr:only-child th {\n",
       "        text-align: right;\n",
       "    }\n",
       "\n",
       "    .dataframe thead th {\n",
       "        text-align: left;\n",
       "    }\n",
       "\n",
       "    .dataframe tbody tr th {\n",
       "        vertical-align: top;\n",
       "    }\n",
       "</style>\n",
       "<table border=\"1\" class=\"dataframe\">\n",
       "  <thead>\n",
       "    <tr style=\"text-align: right;\">\n",
       "      <th></th>\n",
       "      <th>res_idx</th>\n",
       "      <th>nll</th>\n",
       "      <th>prob</th>\n",
       "      <th>continent</th>\n",
       "    </tr>\n",
       "  </thead>\n",
       "  <tbody>\n",
       "    <tr>\n",
       "      <th>1</th>\n",
       "      <td>1</td>\n",
       "      <td>-0.838458</td>\n",
       "      <td>0.432</td>\n",
       "      <td>North America</td>\n",
       "    </tr>\n",
       "    <tr>\n",
       "      <th>4</th>\n",
       "      <td>4</td>\n",
       "      <td>-1.361331</td>\n",
       "      <td>0.256</td>\n",
       "      <td>Europe</td>\n",
       "    </tr>\n",
       "    <tr>\n",
       "      <th>5</th>\n",
       "      <td>5</td>\n",
       "      <td>-2.097363</td>\n",
       "      <td>0.123</td>\n",
       "      <td>Oceania</td>\n",
       "    </tr>\n",
       "    <tr>\n",
       "      <th>2</th>\n",
       "      <td>2</td>\n",
       "      <td>-2.284119</td>\n",
       "      <td>0.102</td>\n",
       "      <td>Africa</td>\n",
       "    </tr>\n",
       "    <tr>\n",
       "      <th>0</th>\n",
       "      <td>0</td>\n",
       "      <td>-3.026701</td>\n",
       "      <td>0.048</td>\n",
       "      <td>Asia</td>\n",
       "    </tr>\n",
       "    <tr>\n",
       "      <th>3</th>\n",
       "      <td>3</td>\n",
       "      <td>-3.265310</td>\n",
       "      <td>0.038</td>\n",
       "      <td>South America</td>\n",
       "    </tr>\n",
       "  </tbody>\n",
       "</table>\n",
       "</div>"
      ],
      "text/plain": [
       "   res_idx       nll   prob      continent\n",
       "1        1 -0.838458  0.432  North America\n",
       "4        4 -1.361331  0.256         Europe\n",
       "5        5 -2.097363  0.123        Oceania\n",
       "2        2 -2.284119  0.102         Africa\n",
       "0        0 -3.026701  0.048           Asia\n",
       "3        3 -3.265310  0.038  South America"
      ]
     },
     "execution_count": 62,
     "metadata": {},
     "output_type": "execute_result"
    }
   ],
   "source": [
    "inference(best_model, 'Bradford', use_gpu)"
   ]
  },
  {
   "cell_type": "code",
   "execution_count": 63,
   "metadata": {},
   "outputs": [
    {
     "data": {
      "text/html": [
       "<div>\n",
       "<style>\n",
       "    .dataframe thead tr:only-child th {\n",
       "        text-align: right;\n",
       "    }\n",
       "\n",
       "    .dataframe thead th {\n",
       "        text-align: left;\n",
       "    }\n",
       "\n",
       "    .dataframe tbody tr th {\n",
       "        vertical-align: top;\n",
       "    }\n",
       "</style>\n",
       "<table border=\"1\" class=\"dataframe\">\n",
       "  <thead>\n",
       "    <tr style=\"text-align: right;\">\n",
       "      <th></th>\n",
       "      <th>res_idx</th>\n",
       "      <th>nll</th>\n",
       "      <th>prob</th>\n",
       "      <th>continent</th>\n",
       "    </tr>\n",
       "  </thead>\n",
       "  <tbody>\n",
       "    <tr>\n",
       "      <th>1</th>\n",
       "      <td>1</td>\n",
       "      <td>-0.825349</td>\n",
       "      <td>0.438</td>\n",
       "      <td>North America</td>\n",
       "    </tr>\n",
       "    <tr>\n",
       "      <th>2</th>\n",
       "      <td>2</td>\n",
       "      <td>-1.733889</td>\n",
       "      <td>0.177</td>\n",
       "      <td>Africa</td>\n",
       "    </tr>\n",
       "    <tr>\n",
       "      <th>5</th>\n",
       "      <td>5</td>\n",
       "      <td>-1.913949</td>\n",
       "      <td>0.147</td>\n",
       "      <td>Oceania</td>\n",
       "    </tr>\n",
       "    <tr>\n",
       "      <th>4</th>\n",
       "      <td>4</td>\n",
       "      <td>-2.118887</td>\n",
       "      <td>0.120</td>\n",
       "      <td>Europe</td>\n",
       "    </tr>\n",
       "    <tr>\n",
       "      <th>0</th>\n",
       "      <td>0</td>\n",
       "      <td>-2.342693</td>\n",
       "      <td>0.096</td>\n",
       "      <td>Asia</td>\n",
       "    </tr>\n",
       "    <tr>\n",
       "      <th>3</th>\n",
       "      <td>3</td>\n",
       "      <td>-3.835471</td>\n",
       "      <td>0.022</td>\n",
       "      <td>South America</td>\n",
       "    </tr>\n",
       "  </tbody>\n",
       "</table>\n",
       "</div>"
      ],
      "text/plain": [
       "   res_idx       nll   prob      continent\n",
       "1        1 -0.825349  0.438  North America\n",
       "2        2 -1.733889  0.177         Africa\n",
       "5        5 -1.913949  0.147        Oceania\n",
       "4        4 -2.118887  0.120         Europe\n",
       "0        0 -2.342693  0.096           Asia\n",
       "3        3 -3.835471  0.022  South America"
      ]
     },
     "execution_count": 63,
     "metadata": {},
     "output_type": "execute_result"
    }
   ],
   "source": [
    "inference(best_model, 'York', use_gpu)"
   ]
  },
  {
   "cell_type": "markdown",
   "metadata": {},
   "source": [
    "As expected, the model shows suboptimal performance when given confusing questions. Let's quantify its performance by continent using sklearn's confusion matrix."
   ]
  },
  {
   "cell_type": "code",
   "execution_count": 64,
   "metadata": {},
   "outputs": [],
   "source": [
    "def evaluate_by_continent(model, data, loss_function, name):\n",
    "    \n",
    "    model.eval() ## eval mode\n",
    "    \n",
    "    avg_loss = 0.0\n",
    "    truth_res = []\n",
    "    pred_res = []\n",
    "    \n",
    "    for batch in data:\n",
    "        if use_gpu:\n",
    "            city, continent = batch.city_ascii.cuda(), batch.continent.cuda()\n",
    "        else:\n",
    "            city, continent = batch.city_ascii, batch.continent\n",
    "        continent.data.sub_(1)\n",
    "        truth_res += list(continent.data)\n",
    "        \n",
    "        model.batch_size = len(continent.data)\n",
    "        model.hidden = model.init_hidden()\n",
    "        \n",
    "        pred = model(city)\n",
    "        pred_label = pred.data.max(1)[1].cpu().numpy()\n",
    "        \n",
    "        pred_res += [x for x in pred_label]\n",
    "        loss = loss_function(pred, continent)\n",
    "        avg_loss += loss.data[0]\n",
    "        \n",
    "    avg_loss /= len(data)\n",
    "    acc = get_accuracy(truth_res, pred_res)\n",
    "    return truth_res, pred_res\n"
   ]
  },
  {
   "cell_type": "code",
   "execution_count": 65,
   "metadata": {},
   "outputs": [],
   "source": [
    "truth_res, pred_res = evaluate_by_continent(best_model, test_iter, loss_function, 'Eval')"
   ]
  },
  {
   "cell_type": "code",
   "execution_count": 66,
   "metadata": {},
   "outputs": [],
   "source": [
    "from sklearn.metrics import confusion_matrix\n",
    "import seaborn as sns\n",
    "from collections import Counter"
   ]
  },
  {
   "cell_type": "code",
   "execution_count": 67,
   "metadata": {},
   "outputs": [],
   "source": [
    "cf = confusion_matrix(truth_res, pred_res)\n",
    "cf_norm = cf.astype('float') / cf.sum(axis=1)[:, np.newaxis]\n",
    "\n",
    "col_idx = np.arange(0, 6)\n",
    "cols = [CONTINENT.vocab.itos[ci+1] for ci in col_idx]\n",
    "\n",
    "cf_df = pd.DataFrame(cf, columns=cols, index=cols)\n",
    "cf_norm_df = pd.DataFrame(cf_norm, columns=cols, index=cols)"
   ]
  },
  {
   "cell_type": "code",
   "execution_count": 68,
   "metadata": {},
   "outputs": [
    {
     "data": {
      "image/png": "[encoded data removed]",
      "text/plain": [
       "<matplotlib.figure.Figure at 0x7f62f48f7e48>"
      ]
     },
     "metadata": {},
     "output_type": "display_data"
    }
   ],
   "source": [
    "fig, ax = plt.subplots(1, 2, figsize=(12, 6))\n",
    "\n",
    "sns.heatmap(cf_df, annot=True, ax=ax[0], cmap='RdBu_r', cbar=False, fmt='g')\n",
    "ax[0].set_xlabel('Prediction', fontsize=15)\n",
    "ax[0].set_ylabel('Ground Truth', fontsize=15)\n",
    "ax[0].set_title(\"Confusion Matrix\", fontsize=20)\n",
    "\n",
    "sns.heatmap(cf_norm_df, annot=True, ax=ax[1], cmap='RdBu_r', cbar=False)\n",
    "ax[1].set_xlabel('Prediction', fontsize=15)\n",
    "ax[1].set_ylabel('Ground Truth', fontsize=15)\n",
    "ax[1].set_title(\"Normalised Confusion Matrix\", fontsize=20)\n",
    "plt.tight_layout()\n",
    "\n",
    "plt.show()"
   ]
  },
  {
   "cell_type": "markdown",
   "metadata": {},
   "source": [
    "The model's prediction power is pretty good with Asian cities. It might imply that the Asian city names are named quite differently from the cities in other continents. It could be far-fetched, but I think the world history during the Great Expansion might have a plausible answer to this phenomenon. "
   ]
  },
  {
   "cell_type": "markdown",
   "metadata": {},
   "source": [
    "## Would Ensemble improve performance?\n",
    "I used simple voting mechanism by which the label that is chosen the most gets to be the output of the ensemble model."
   ]
  },
  {
   "cell_type": "code",
   "execution_count": 69,
   "metadata": {},
   "outputs": [
    {
     "data": {
      "text/html": [
       "<div>\n",
       "<style>\n",
       "    .dataframe thead tr:only-child th {\n",
       "        text-align: right;\n",
       "    }\n",
       "\n",
       "    .dataframe thead th {\n",
       "        text-align: left;\n",
       "    }\n",
       "\n",
       "    .dataframe tbody tr th {\n",
       "        vertical-align: top;\n",
       "    }\n",
       "</style>\n",
       "<table border=\"1\" class=\"dataframe\">\n",
       "  <thead>\n",
       "    <tr style=\"text-align: right;\">\n",
       "      <th></th>\n",
       "      <th>pg</th>\n",
       "      <th>epoch</th>\n",
       "      <th>test_avg_loss</th>\n",
       "      <th>test_acc</th>\n",
       "      <th>f1_score</th>\n",
       "      <th>rank</th>\n",
       "    </tr>\n",
       "  </thead>\n",
       "  <tbody>\n",
       "    <tr>\n",
       "      <th>0</th>\n",
       "      <td>17</td>\n",
       "      <td>12</td>\n",
       "      <td>1.189121</td>\n",
       "      <td>0.580913</td>\n",
       "      <td>0.565772</td>\n",
       "      <td>1</td>\n",
       "    </tr>\n",
       "    <tr>\n",
       "      <th>1</th>\n",
       "      <td>22</td>\n",
       "      <td>16</td>\n",
       "      <td>1.158638</td>\n",
       "      <td>0.579530</td>\n",
       "      <td>0.563450</td>\n",
       "      <td>2</td>\n",
       "    </tr>\n",
       "    <tr>\n",
       "      <th>2</th>\n",
       "      <td>22</td>\n",
       "      <td>12</td>\n",
       "      <td>1.171896</td>\n",
       "      <td>0.578147</td>\n",
       "      <td>0.559408</td>\n",
       "      <td>3</td>\n",
       "    </tr>\n",
       "    <tr>\n",
       "      <th>3</th>\n",
       "      <td>23</td>\n",
       "      <td>15</td>\n",
       "      <td>1.183138</td>\n",
       "      <td>0.565698</td>\n",
       "      <td>0.556997</td>\n",
       "      <td>4</td>\n",
       "    </tr>\n",
       "    <tr>\n",
       "      <th>4</th>\n",
       "      <td>22</td>\n",
       "      <td>15</td>\n",
       "      <td>1.170758</td>\n",
       "      <td>0.565698</td>\n",
       "      <td>0.554061</td>\n",
       "      <td>5</td>\n",
       "    </tr>\n",
       "  </tbody>\n",
       "</table>\n",
       "</div>"
      ],
      "text/plain": [
       "   pg  epoch  test_avg_loss  test_acc  f1_score  rank\n",
       "0  17     12       1.189121  0.580913  0.565772     1\n",
       "1  22     16       1.158638  0.579530  0.563450     2\n",
       "2  22     12       1.171896  0.578147  0.559408     3\n",
       "3  23     15       1.183138  0.565698  0.556997     4\n",
       "4  22     15       1.170758  0.565698  0.554061     5"
      ]
     },
     "execution_count": 69,
     "metadata": {},
     "output_type": "execute_result"
    }
   ],
   "source": [
    "by_f1.head()"
   ]
  },
  {
   "cell_type": "code",
   "execution_count": 70,
   "metadata": {},
   "outputs": [],
   "source": [
    "best_checkpoints = ['/output/result_dir/pg_17__epoch_12.pth.tar',\n",
    "                    '/output/result_dir/pg_22__epoch_16.pth.tar',\n",
    "                    '/output/result_dir/pg_22__epoch_12.pth.tar',\n",
    "                    '/output/result_dir/pg_23__epoch_15.pth.tar',\n",
    "                    '/output/result_dir/pg_22__epoch_15.pth.tar']"
   ]
  },
  {
   "cell_type": "code",
   "execution_count": 85,
   "metadata": {},
   "outputs": [
    {
     "name": "stdout",
     "output_type": "stream",
     "text": [
      "/output/result_dir/pg_17__epoch_12.pth.tar\n",
      "/output/result_dir/pg_22__epoch_16.pth.tar\n",
      "/output/result_dir/pg_22__epoch_12.pth.tar\n",
      "/output/result_dir/pg_23__epoch_15.pth.tar\n",
      "/output/result_dir/pg_22__epoch_15.pth.tar\n"
     ]
    }
   ],
   "source": [
    "truth_res = None\n",
    "pred_list = []\n",
    "for path in best_checkpoints:\n",
    "    print(path)\n",
    "    pg_idx = int(re.findall('/pg_(.*)__epoch', path)[0])\n",
    "    epoch = int(re.findall('__epoch_(.*).pth', path)[0])\n",
    "    \n",
    "    model = load_params(LSTMModel, param_grids[pg_idx], use_gpu)\n",
    "    model.eval()\n",
    "    checkpoint = torch.load(path, map_location={'cuda:0': 'cpu'})\n",
    "    model.load_state_dict(checkpoint['state_dict'])\n",
    "    truth_res, pred_res = evaluate_by_continent(model, test_iter, loss_function, 'best_models')\n",
    "    truth_res = truth_res\n",
    "    pred_list.append(pred_res)"
   ]
  },
  {
   "cell_type": "code",
   "execution_count": 86,
   "metadata": {},
   "outputs": [],
   "source": [
    "pred_arr = np.asarray(pred_list)"
   ]
  },
  {
   "cell_type": "code",
   "execution_count": 87,
   "metadata": {},
   "outputs": [],
   "source": [
    "from scipy.stats import mode"
   ]
  },
  {
   "cell_type": "code",
   "execution_count": 88,
   "metadata": {},
   "outputs": [],
   "source": [
    "ensemble_pred = mode(pred_arr, axis=0)[0][0]\n",
    "truth_res = np.array(truth_res)"
   ]
  },
  {
   "cell_type": "code",
   "execution_count": 89,
   "metadata": {},
   "outputs": [
    {
     "name": "stdout",
     "output_type": "stream",
     "text": [
      "True label       :  [4 0 3 1 2 0 2 4 0 2]\n",
      "Ensemble         :  [4 0 3 2 2 3 0 2 0 2]\n",
      "-------------------------------------------------\n",
      "pg_17__epoch_16  :  [4 0 4 2 2 0 0 4 0 2]\n",
      "pg_21__epoch_9   :  [4 0 3 2 2 3 0 2 0 0]\n",
      "pg_5__epoch_10   :  [4 0 4 2 2 3 0 0 0 0]\n",
      "pg_17__epoch_14  :  [4 0 2 2 2 3 0 2 0 2]\n",
      "pg_16__epoch_16  :  [4 0 3 2 2 3 0 2 0 2]\n"
     ]
    }
   ],
   "source": [
    "print(\"True label       : \", truth_res[:10])\n",
    "print(\"Ensemble         : \", ensemble_pred[:10])\n",
    "print(\"-------------------------------------------------\")\n",
    "print(\"pg_17__epoch_16  : \", np.array(pred_list[0][:10]))\n",
    "print(\"pg_21__epoch_9   : \", np.array(pred_list[1][:10]))\n",
    "print(\"pg_5__epoch_10   : \", np.array(pred_list[2][:10]))\n",
    "print(\"pg_17__epoch_14  : \", np.array(pred_list[3][:10]))\n",
    "print(\"pg_16__epoch_16  : \", np.array(pred_list[4][:10]))"
   ]
  },
  {
   "cell_type": "code",
   "execution_count": 90,
   "metadata": {},
   "outputs": [],
   "source": [
    "ensemble = {'type': 'ensemble'}\n",
    "single = {'type': 'single'}"
   ]
  },
  {
   "cell_type": "code",
   "execution_count": 91,
   "metadata": {},
   "outputs": [],
   "source": [
    "ensemble['f1'] = round(get_f1(truth_res, ensemble_pred), 3)\n",
    "ensemble['accuracy'] = round(get_accuracy(truth_res, ensemble_pred), 3)\n",
    "\n",
    "single['f1'] = round(by_f1.iloc[0].f1_score, 3)\n",
    "single['accuracy'] = round(by_accuracy.iloc[0].test_acc, 3)"
   ]
  },
  {
   "cell_type": "code",
   "execution_count": 92,
   "metadata": {},
   "outputs": [],
   "source": [
    "comp = pd.DataFrame([ensemble, single])"
   ]
  },
  {
   "cell_type": "code",
   "execution_count": 93,
   "metadata": {},
   "outputs": [
    {
     "name": "stdout",
     "output_type": "stream",
     "text": [
      "f1-score >> ensemble: 0.571 vs. single: 0.566\n",
      "accuracy >> ensemble: 0.589 vs. single: 0.581\n"
     ]
    }
   ],
   "source": [
    "print('f1-score >> ensemble: {} vs. single: {}'.format(ensemble['f1'], single['f1']))\n",
    "print('accuracy >> ensemble: {} vs. single: {}'.format(ensemble['accuracy'], single['accuracy']))"
   ]
  },
  {
   "cell_type": "code",
   "execution_count": 94,
   "metadata": {},
   "outputs": [],
   "source": [
    "cf = confusion_matrix(truth_res, ensemble_pred)\n",
    "cf_norm = cf.astype('float') / cf.sum(axis=1)[:, np.newaxis]\n",
    "\n",
    "col_idx = np.arange(0, 6)\n",
    "cols = [CONTINENT.vocab.itos[ci+1] for ci in col_idx]\n",
    "\n",
    "cf_df_en = pd.DataFrame(cf, columns=cols, index=cols)\n",
    "cf_norm_df_en = pd.DataFrame(cf_norm, columns=cols, index=cols)"
   ]
  },
  {
   "cell_type": "code",
   "execution_count": 95,
   "metadata": {},
   "outputs": [
    {
     "data": {
      "image/png": "[encoded data removed]",
      "text/plain": [
       "<matplotlib.figure.Figure at 0x7f62f473d898>"
      ]
     },
     "metadata": {},
     "output_type": "display_data"
    }
   ],
   "source": [
    "fig, ax = plt.subplots(1, 2, figsize=(12, 6))\n",
    "\n",
    "sns.heatmap(cf_df_en, annot=True, ax=ax[0], cmap='RdBu_r', cbar=False, fmt='g')\n",
    "ax[0].set_xlabel('Prediction', fontsize=15)\n",
    "ax[0].set_ylabel('Ground Truth', fontsize=15)\n",
    "ax[0].set_title(\"Confusion Matrix(Ensemble)\", fontsize=20)\n",
    "\n",
    "sns.heatmap(cf_norm_df_en, annot=True, ax=ax[1], cmap='RdBu_r', cbar=False)\n",
    "ax[1].set_xlabel('Prediction', fontsize=15)\n",
    "ax[1].set_ylabel('Ground Truth', fontsize=15)\n",
    "ax[1].set_title(\"Normalised Confusion Matrix(Ensemble)\", fontsize=20)\n",
    "plt.tight_layout()\n",
    "\n",
    "plt.show()"
   ]
  },
  {
   "cell_type": "markdown",
   "metadata": {},
   "source": [
    "### Single vs. Ensemble\n",
    "Let's compare the heatmaps side by side."
   ]
  },
  {
   "cell_type": "code",
   "execution_count": 96,
   "metadata": {},
   "outputs": [
    {
     "data": {
      "image/png": "[encoded data removed]",
      "text/plain": [
       "<matplotlib.figure.Figure at 0x7f62f30b85c0>"
      ]
     },
     "metadata": {},
     "output_type": "display_data"
    }
   ],
   "source": [
    "fig, ax = plt.subplots(1, 2, figsize=(12, 6))\n",
    "\n",
    "sns.heatmap(cf_df, annot=True, ax=ax[0], cmap='RdBu_r', cbar=False, fmt='g', vmin=0, vmax=200)\n",
    "ax[0].set_xlabel('Prediction', fontsize=15)\n",
    "ax[0].set_ylabel('Ground Truth', fontsize=15)\n",
    "ax[0].set_title(\"Confusion Matrix(Single)\", fontsize=20)\n",
    "\n",
    "sns.heatmap(cf_df_en, annot=True, ax=ax[1], cmap='RdBu_r', cbar=False, fmt='g', vmin=0, vmax=200)\n",
    "ax[1].set_xlabel('Prediction', fontsize=15)\n",
    "ax[1].set_ylabel('Ground Truth', fontsize=15)\n",
    "ax[1].set_title(\"Confusion Matrix(Ensemble)\", fontsize=20)\n",
    "plt.tight_layout()\n",
    "\n",
    "plt.show()"
   ]
  },
  {
   "cell_type": "markdown",
   "metadata": {},
   "source": [
    "### Single vs. Ensemble (Normalised)\n",
    "The Ensemble model is better at Asian and North American cities, but not at African, European, and Oceanian cities."
   ]
  },
  {
   "cell_type": "code",
   "execution_count": 97,
   "metadata": {},
   "outputs": [
    {
     "data": {
      "image/png": "[encoded data removed]",
      "text/plain": [
       "<matplotlib.figure.Figure at 0x7f62f1155550>"
      ]
     },
     "metadata": {},
     "output_type": "display_data"
    }
   ],
   "source": [
    "fig, ax = plt.subplots(1, 2, figsize=(12, 6))\n",
    "\n",
    "sns.heatmap(cf_norm_df, annot=True, ax=ax[0], cmap='RdBu_r', cbar=False, vmin=0, vmax=1)\n",
    "ax[0].set_xlabel('Prediction', fontsize=15)\n",
    "ax[0].set_ylabel('Ground Truth', fontsize=15)\n",
    "ax[0].set_title(\"Confusion Matrix(Single)\", fontsize=20)\n",
    "\n",
    "sns.heatmap(cf_norm_df_en, annot=True, ax=ax[1], cmap='RdBu_r', cbar=False, vmin=0, vmax=1)\n",
    "ax[1].set_xlabel('Prediction', fontsize=15)\n",
    "ax[1].set_ylabel('Ground Truth', fontsize=15)\n",
    "ax[1].set_title(\"Confusion Matrix(Ensemble)\", fontsize=20)\n",
    "plt.tight_layout()\n",
    "\n",
    "plt.show()"
   ]
  },
  {
   "cell_type": "markdown",
   "metadata": {},
   "source": [
    "### Inference with Ensemble model\n",
    "I used the simple voting rule for choosing the prediction label."
   ]
  },
  {
   "cell_type": "code",
   "execution_count": 98,
   "metadata": {},
   "outputs": [
    {
     "name": "stdout",
     "output_type": "stream",
     "text": [
      "/output/result_dir/pg_17__epoch_12.pth.tar\n",
      "/output/result_dir/pg_22__epoch_16.pth.tar\n",
      "/output/result_dir/pg_22__epoch_12.pth.tar\n",
      "/output/result_dir/pg_23__epoch_15.pth.tar\n",
      "/output/result_dir/pg_22__epoch_15.pth.tar\n"
     ]
    }
   ],
   "source": [
    "models = []\n",
    "for path in best_checkpoints:\n",
    "    print(path)\n",
    "    pg_idx = int(re.findall('/pg_(.*)__epoch', path)[0])\n",
    "    epoch = int(re.findall('__epoch_(.*).pth', path)[0])\n",
    "    \n",
    "    model = load_params(LSTMModel, param_grids[pg_idx], use_gpu)\n",
    "    model.eval()\n",
    "    checkpoint = torch.load(path, map_location={'cuda:0': 'cpu'})\n",
    "    model.load_state_dict(checkpoint['state_dict'])\n",
    "    models.append(model)"
   ]
  },
  {
   "cell_type": "code",
   "execution_count": 110,
   "metadata": {},
   "outputs": [],
   "source": [
    "def ensemble_inference(models, target, use_gpu):\n",
    "    if use_gpu:\n",
    "        targetTensor = Variable(torch.Tensor([CITY.vocab.stoi[c] for c in CITY.preprocess(target)]).cuda().type(torch.LongTensor).view(len(target), -1)).cuda()\n",
    "    else:\n",
    "        targetTensor = Variable(torch.Tensor([CITY.vocab.stoi[c] for c in CITY.preprocess(target)]).type(torch.LongTensor).view(len(target), -1))\n",
    "    \n",
    "    pred_idx_list = []\n",
    "    for cmodel in models:\n",
    "        cmodel.eval()\n",
    "        cmodel.hidden = cmodel.init_hidden()\n",
    "        cmodel.batch_size = 1\n",
    "        pred = cmodel(targetTensor)\n",
    "        pred_idx = np.argmax(pred.data.cpu().numpy()[0])\n",
    "        pred_idx_list.append(pred_idx)\n",
    "        \n",
    "        time.sleep(0.1)\n",
    "                \n",
    "    (res, cnt) = Counter(pred_idx_list).most_common(1)[0]\n",
    "    prediction = CONTINENT.vocab.itos[res + 1]\n",
    "    return cnt, target, prediction  \n"
   ]
  },
  {
   "cell_type": "code",
   "execution_count": 111,
   "metadata": {},
   "outputs": [
    {
     "name": "stdout",
     "output_type": "stream",
     "text": [
      "5 models predicted Sheffield to be in North America.\n"
     ]
    }
   ],
   "source": [
    "cnt, target, prediction = ensemble_inference(models, 'Sheffield', use_gpu)\n",
    "print(\"{} models predicted {} to be in {}.\".format(cnt, target, prediction))"
   ]
  },
  {
   "cell_type": "code",
   "execution_count": 112,
   "metadata": {},
   "outputs": [
    {
     "name": "stdout",
     "output_type": "stream",
     "text": [
      "5 models predicted Sheffield to be in North America.\n"
     ]
    }
   ],
   "source": [
    "ensemble_inference(models, 'Bratford', use_gpu)\n",
    "print(\"{} models predicted {} to be in {}.\".format(cnt, target, prediction))"
   ]
  },
  {
   "cell_type": "code",
   "execution_count": 113,
   "metadata": {},
   "outputs": [
    {
     "name": "stdout",
     "output_type": "stream",
     "text": [
      "5 models predicted Sheffield to be in North America.\n"
     ]
    }
   ],
   "source": [
    "ensemble_inference(models, 'York', use_gpu)\n",
    "print(\"{} models predicted {} to be in {}.\".format(cnt, target, prediction))"
   ]
  },
  {
   "cell_type": "markdown",
   "metadata": {},
   "source": [
    "It turned out that they are all incorrect given cities in the UK. Perhaps mixing models that are strong in each continent categories would produce better results."
   ]
  },
  {
   "cell_type": "markdown",
   "metadata": {},
   "source": [
    "## 6. GAME!\n",
    "\n",
    "So now I have a deep learning algorithm that predicts its continent given a name of a city. It would be of great fun to play a game against this AI!! Sounds super nerdy. The function `run_test_single` and `run_test_ensemble` randomly choose a record from the test dataset and return a machine-predicted label."
   ]
  },
  {
   "cell_type": "code",
   "execution_count": 114,
   "metadata": {},
   "outputs": [],
   "source": [
    "test_set = pd.read_csv('dataset/_test.csv')"
   ]
  },
  {
   "cell_type": "code",
   "execution_count": 116,
   "metadata": {},
   "outputs": [
    {
     "name": "stdout",
     "output_type": "stream",
     "text": [
      "Which Continent does **Jining** belong to?\n",
      ">>> Correct Answer: Asia\n",
      "-----------------------------------------------\n",
      "Machine prediction: Asia(0.948) -- Correct!\n"
     ]
    }
   ],
   "source": [
    "def judge(m_pred, gt):\n",
    "    if m_pred == gt:\n",
    "        return \"Correct!\"\n",
    "    else:\n",
    "        return \"Incorrect!\"\n",
    "\n",
    "def run_test_single():\n",
    "    sample = test_set.sample()\n",
    "    city = sample.city_ascii.values[0]\n",
    "    continent = sample.continent.values[0]\n",
    "    print(\"Which Continent does **{}** belong to?\".format(city))\n",
    "    print(\">>> Correct Answer: {}\".format(continent))\n",
    "    print(\"-----------------------------------------------\")\n",
    "    res_df = inference(best_model, city, use_gpu).sort_values(by='prob', ascending=False)\n",
    "    m_pred = res_df.iloc[0].continent\n",
    "    m_pred_prob = res_df.iloc[0].prob\n",
    "    \n",
    "    print(\"Machine prediction: {}({}) -- {}\".format(m_pred, m_pred_prob, judge(m_pred, continent)))\n",
    "    \n",
    "run_test_single()"
   ]
  },
  {
   "cell_type": "code",
   "execution_count": 117,
   "metadata": {},
   "outputs": [
    {
     "name": "stdout",
     "output_type": "stream",
     "text": [
      "Which Continent does **Demba** belong to?\n",
      ">>> Correct Answer: Africa\n",
      "-----------------------------------------------\n",
      "5 Machine prediction: Africa -- Correct!\n"
     ]
    }
   ],
   "source": [
    "def run_test_ensemble():\n",
    "    sample = test_set.sample()\n",
    "    city = sample.city_ascii.values[0]\n",
    "    continent = sample.continent.values[0]\n",
    "    print(\"Which Continent does **{}** belong to?\".format(city))\n",
    "    print(\">>> Correct Answer: {}\".format(continent))\n",
    "    print(\"-----------------------------------------------\")\n",
    "    cnt, target, prediction = ensemble_inference(models, city, use_gpu)\n",
    "    \n",
    "    print(\"{} Machine prediction: {} -- {}\".format(cnt, prediction, judge(prediction, continent)))\n",
    "    \n",
    "run_test_ensemble()"
   ]
  },
  {
   "cell_type": "markdown",
   "metadata": {},
   "source": [
    "Making a web game with AWS Lambda or EC2 would be more than great, but it's too much for me to build everything on my own. To see how fun it is to play this game, I ran the above function 10 times and see if my parents-in-laws, my wife and myself could beat the model!\n",
    "\n",
    "The results are..\n",
    "\n",
    "** Human vs. AI **  \n",
    "Parents 4 vs 6 AI  \n",
    "Wife    4 vs 6 AI  \n",
    "Me      2 vs 5 AI  \n",
    "\n",
    "Here's my score table. I mean.. where the hell is Tom Price? Tom Price is a city in Western Austrailia.\n",
    "\n",
    "|    | Question              | Me | AI |\n",
    "|----|-----------------------|----|----|\n",
    "| 1  | Haeju                 | 1  | 1  |\n",
    "| 2  | Fond Du Lac           | 0  | 1  |\n",
    "| 3  | San Juan De Nicaragua | 0  | 0  |\n",
    "| 4  | Altata                | 0  | 0  |\n",
    "| 5  | Porvoo                | 1  | 1  |\n",
    "| 6  | Almirante             | 0  | 1  |\n",
    "| 7  | Cap-Haitien           | 0  | 1  |\n",
    "| 8  | Raleigh               | 0  | 0  |\n",
    "| 9  | Atqasuk               | 0  | 0  |\n",
    "| 10 | Tom Price             | 0  | 0  |\n",
    "|    | Total Score           | 2  | 5  |"
   ]
  }
 ],
 "metadata": {
  "kernelspec": {
   "display_name": "Python 3",
   "language": "python",
   "name": "python3"
  },
  "language_info": {
   "codemirror_mode": {
    "name": "ipython",
    "version": 3
   },
   "file_extension": ".py",
   "mimetype": "text/x-python",
   "name": "python",
   "nbconvert_exporter": "python",
   "pygments_lexer": "ipython3",
   "version": "3.5.4"
  }
 },
 "nbformat": 4,
 "nbformat_minor": 2
}
